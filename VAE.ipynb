{
  "nbformat": 4,
  "nbformat_minor": 0,
  "metadata": {
    "colab": {
      "name": "VAE.ipynb",
      "version": "0.3.2",
      "provenance": [],
      "include_colab_link": true
    },
    "kernelspec": {
      "name": "python3",
      "display_name": "Python 3"
    }
  },
  "cells": [
    {
      "cell_type": "markdown",
      "metadata": {
        "id": "view-in-github",
        "colab_type": "text"
      },
      "source": [
        "<a href=\"https://colab.research.google.com/github/msc-acse/acse-9-independent-research-project-Garethlomax/blob/baseline_hybrid/VAE.ipynb\" target=\"_parent\"><img src=\"https://colab.research.google.com/assets/colab-badge.svg\" alt=\"Open In Colab\"/></a>"
      ]
    },
    {
      "cell_type": "markdown",
      "metadata": {
        "id": "2kCoGhlyfHLU",
        "colab_type": "text"
      },
      "source": [
        "# IMPORTS"
      ]
    },
    {
      "cell_type": "code",
      "metadata": {
        "id": "vFE8Oevpd134",
        "colab_type": "code",
        "outputId": "cf655543-30e2-4ede-a535-cc8c3d1d0bd7",
        "colab": {
          "base_uri": "https://localhost:8080/",
          "height": 55
        }
      },
      "source": [
        "from google.colab import drive\n",
        "drive.mount('/content/drive')"
      ],
      "execution_count": 7,
      "outputs": [
        {
          "output_type": "stream",
          "text": [
            "Drive already mounted at /content/drive; to attempt to forcibly remount, call drive.mount(\"/content/drive\", force_remount=True).\n"
          ],
          "name": "stdout"
        }
      ]
    },
    {
      "cell_type": "code",
      "metadata": {
        "id": "1EpY3vbmfKCD",
        "colab_type": "code",
        "outputId": "70c675b8-f837-42c7-83d0-7bf9dc98c983",
        "colab": {
          "base_uri": "https://localhost:8080/",
          "height": 183
        }
      },
      "source": [
        "# !ls\n",
        "\n",
        "%cd /content/drive/My \\Drive/masters_project/python_modules/MovingMNIST-master\n",
        "\n",
        "# all torch imports\n",
        "import torch\n",
        "import torch.nn as nn\n",
        "import torch.nn.functional as F\n",
        "from torch.utils.data import TensorDataset, DataLoader, Dataset\n",
        "import torchvision.transforms as transforms\n",
        "import numpy as np\n",
        "from sklearn.model_selection import StratifiedShuffleSplit\n",
        "from torchvision import models\n",
        "\n",
        "import matplotlib.pyplot as plt\n",
        "import h5py\n",
        "\n",
        "# importing moving mnist test set.\n",
        "from MovingMNIST import MovingMNIST\n",
        "\n",
        "%cd /content/drive/My \\Drive/masters_project/python_modules/pytorch-summary-master\n",
        "from torchsummary import summary\n",
        "\n",
        "# %cd /content/drive/My \\Drive/masters_project/python_modules/pytorch_modelsize-master\n",
        "\n",
        "%cd /content/drive/My \\Drive/masters_project/python_modules/pytorchvis-master\n",
        "\n",
        "!pip install torchviz\n",
        "\n",
        "torch.backends.cudnn.benchmark = True\n",
        "torch.backends.cudnn.enabled = True\n",
        "\n",
        "\n"
      ],
      "execution_count": 8,
      "outputs": [
        {
          "output_type": "stream",
          "text": [
            "/content/drive/My Drive/masters_project/python_modules/MovingMNIST-master\n",
            "/content/drive/My Drive/masters_project/python_modules/pytorch-summary-master\n",
            "[Errno 2] No such file or directory: '/content/drive/My Drive/masters_project/python_modules/pytorchvis-master'\n",
            "/content/drive/My Drive/masters_project/python_modules/pytorch-summary-master\n",
            "Requirement already satisfied: torchviz in /usr/local/lib/python3.6/dist-packages (0.0.1)\n",
            "Requirement already satisfied: torch in /usr/local/lib/python3.6/dist-packages (from torchviz) (1.1.0)\n",
            "Requirement already satisfied: graphviz in /usr/local/lib/python3.6/dist-packages (from torchviz) (0.10.1)\n",
            "Requirement already satisfied: numpy in /usr/local/lib/python3.6/dist-packages (from torch->torchviz) (1.16.4)\n"
          ],
          "name": "stdout"
        }
      ]
    },
    {
      "cell_type": "markdown",
      "metadata": {
        "id": "05LjGyTCfL0M",
        "colab_type": "text"
      },
      "source": [
        "# MODEL "
      ]
    },
    {
      "cell_type": "code",
      "metadata": {
        "id": "1S2WAZkgfRPb",
        "colab_type": "code",
        "colab": {}
      },
      "source": [
        "# alex_net = models.A\n",
        "# alex = models.alexnet(pretrained = True)\n",
        "\n",
        "# # make conditioned - give the decoder the last output of encoder as input.\n",
        "# class Enc_Dec(nn.Module):\n",
        "#     def __init__(self):\n",
        "#         super(Enc_Dec, self).__init__()\n",
        "        \n",
        "#         self."
      ],
      "execution_count": 0,
      "outputs": []
    },
    {
      "cell_type": "code",
      "metadata": {
        "id": "FWzjS6ZMux5x",
        "colab_type": "code",
        "colab": {}
      },
      "source": [
        "# alex.features[0] = nn.Conv2d(1,64, kernel_size = (11,11), stride = (4,4), padding = (2,2))\n",
        "# for i, params in enumerate(alex.parameters()):\n",
        "#     if (i==1):\n",
        "#         print(params.data)\n",
        "\n"
      ],
      "execution_count": 0,
      "outputs": []
    },
    {
      "cell_type": "code",
      "metadata": {
        "id": "vR1BDEGSI1Qj",
        "colab_type": "code",
        "colab": {}
      },
      "source": [
        ""
      ],
      "execution_count": 0,
      "outputs": []
    },
    {
      "cell_type": "markdown",
      "metadata": {
        "id": "T8aPqCc_I1ln",
        "colab_type": "text"
      },
      "source": [
        "# Encoder\n",
        "NON VARIATIONAL"
      ]
    },
    {
      "cell_type": "code",
      "metadata": {
        "id": "WTIl-oaCQwaw",
        "colab_type": "code",
        "colab": {}
      },
      "source": [
        "class encoder(nn.Module):\n",
        "    def __init__(self, in_channels, image_dims):\n",
        "        super(encoder, self).__init__()\n",
        "        self.image_dims = image_dims # list of channels, height, width\n",
        "        self.in_chan = in_channels\n",
        "        \n",
        "        \"\"\"activations \"\"\"\n",
        "        self.relu = nn.ReLU()\n",
        "        self.sig = nn.Sigmoid()\n",
        "        \n",
        "        \n",
        "        # need to decide how deep the input is\n",
        "        \"\"\"convolution encoding \"\"\"\n",
        "        self.c1 = nn.Conv2d(self.in_chan, 32, kernel_size = 4, stride = 2)\n",
        "        \n",
        "        self.c2 = nn.Conv2d(32, 64, kernel_size = 4, stride = 2)\n",
        "        \n",
        "        self.c3 = nn.Conv2d(64, 128, kernel_size = 4, stride = 2)\n",
        "        \n",
        "        self.c4 = nn.Conv2d(128, 256, kernel_size = 4, stride = 2)\n",
        "        \n",
        "        self.relu = nn.ReLU()\n",
        "        self.sig = nn.Sigmoid()\n",
        "        \n",
        "        \"\"\" fully connected layer \"\"\"\n",
        "        \n",
        "        self.fc1 = nn.Linear(1024,128)\n",
        "        \n",
        "        self.fc2 = nn.Linear(128,1024)\n",
        "        \n",
        "        self.fc3 = nn.Linear(1024,1024)\n",
        "        \n",
        "        \"\"\" decoder convolution\"\"\"\n",
        "        \n",
        "        self.t1 = nn.ConvTranspose2d(1024, 128, kernel_size=5, stride=2)\n",
        "        \n",
        "        self.t2 = nn.ConvTranspose2d(128, 64, kernel_size=5, stride=2)\n",
        "        \n",
        "        self.t3 = nn.ConvTranspose2d(64, 32, kernel_size=5, stride=2)\n",
        "        \n",
        "        self.t4 = nn.ConvTranspose2d(32, self.in_chan, kernel_size=5, stride=2)\n",
        "        \n",
        "    \n",
        "    def encode(self, x):\n",
        "        x = self.relu(self.c1(x))\n",
        "        x = self.relu(self.c2(x))\n",
        "        x = self.relu(self.c3(x))\n",
        "        x = self.relu(self.c4(x))\n",
        "        return x\n",
        "    \n",
        "    def fc_layers(self, x):\n",
        "        #first we flatten\n",
        "        # -1 in pytorch view is the same as -1 in numpy reshape\n",
        "        x = x.view(x.size(0), -1) # using view terminology\n",
        "        \n",
        "        # fully connected layers\n",
        "        # this is an autoencoder with no variation, so no distribution sampling\n",
        "        x = self.fc1(x)\n",
        "        x = self.fc2(x)\n",
        "        x = self.fc3(x)\n",
        "        # x.size(0) allows for variable batch sizes.\n",
        "        size = 1024 # size of flattened array going in?\n",
        "        x = x.view(x.size(0), size, 1, 1)\n",
        "#         x = x.view(-1, self.image_dims[0], self.image_dims[1], self.image_dims[2])\n",
        "        \n",
        "        # now we reshape the image back into the square. \n",
        "        return x\n",
        "    \n",
        "    def decode(self, x):\n",
        "#         print(x.shape)\n",
        "        x = self.relu(self.t1(x))\n",
        "        x = self.relu(self.t2(x))\n",
        "        x = self.relu(self.t3(x))\n",
        "        x = self.relu(self.t4(x))\n",
        "        return x\n",
        "        \n",
        "    def forward(self, x):\n",
        "        x = self.encode(x)\n",
        "        x = self.fc_layers(x)\n",
        "        x = self.decode(x)\n",
        "        x = self.sig(x)\n",
        "        return x\n",
        "    \n",
        "        \n",
        "        \n",
        "    \n",
        "        \n",
        "        \n",
        "        \n",
        "        \n",
        "        \n",
        "        \n",
        "        "
      ],
      "execution_count": 0,
      "outputs": []
    },
    {
      "cell_type": "code",
      "metadata": {
        "id": "PBjc9ljPVX7Y",
        "colab_type": "code",
        "colab": {}
      },
      "source": [
        "x = torch.randn([1,1,64,64])\n"
      ],
      "execution_count": 0,
      "outputs": []
    },
    {
      "cell_type": "code",
      "metadata": {
        "id": "kYz5eAPlr8gT",
        "colab_type": "code",
        "colab": {}
      },
      "source": [
        "test = encoder(1, [1,64,64])\n"
      ],
      "execution_count": 0,
      "outputs": []
    },
    {
      "cell_type": "code",
      "metadata": {
        "id": "FA6_5F3CsEQY",
        "colab_type": "code",
        "colab": {
          "base_uri": "https://localhost:8080/",
          "height": 290
        },
        "outputId": "f5da3c6c-2cb1-4e41-ea5a-c61005be9ee3"
      },
      "source": [
        "test.eval()"
      ],
      "execution_count": 66,
      "outputs": [
        {
          "output_type": "execute_result",
          "data": {
            "text/plain": [
              "encoder(\n",
              "  (relu): ReLU()\n",
              "  (sig): Sigmoid()\n",
              "  (c1): Conv2d(1, 32, kernel_size=(4, 4), stride=(2, 2))\n",
              "  (c2): Conv2d(32, 64, kernel_size=(4, 4), stride=(2, 2))\n",
              "  (c3): Conv2d(64, 128, kernel_size=(4, 4), stride=(2, 2))\n",
              "  (c4): Conv2d(128, 256, kernel_size=(4, 4), stride=(2, 2))\n",
              "  (fc1): Linear(in_features=1024, out_features=128, bias=True)\n",
              "  (fc2): Linear(in_features=128, out_features=1024, bias=True)\n",
              "  (fc3): Linear(in_features=1024, out_features=1024, bias=True)\n",
              "  (t1): ConvTranspose2d(1024, 128, kernel_size=(5, 5), stride=(2, 2))\n",
              "  (t2): ConvTranspose2d(128, 64, kernel_size=(5, 5), stride=(2, 2))\n",
              "  (t3): ConvTranspose2d(64, 32, kernel_size=(5, 5), stride=(2, 2))\n",
              "  (t4): ConvTranspose2d(32, 1, kernel_size=(5, 5), stride=(2, 2))\n",
              ")"
            ]
          },
          "metadata": {
            "tags": []
          },
          "execution_count": 66
        }
      ]
    },
    {
      "cell_type": "code",
      "metadata": {
        "id": "_lt9Wd7esG2V",
        "colab_type": "code",
        "colab": {
          "base_uri": "https://localhost:8080/",
          "height": 269
        },
        "outputId": "2cedd4a8-86b8-434d-cb1a-534478b4829e"
      },
      "source": [
        "with torch.no_grad():\n",
        "    out = test(x)\n",
        "#     out.detatch()\n",
        "    plt.imshow(out[0][0])"
      ],
      "execution_count": 69,
      "outputs": [
        {
          "output_type": "display_data",
          "data": {
            "image/png": "[encoded data removed]",
            "text/plain": [
              "<Figure size 432x288 with 1 Axes>"
            ]
          },
          "metadata": {
            "tags": []
          }
        }
      ]
    }
  ]
}