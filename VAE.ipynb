{
  "nbformat": 4,
  "nbformat_minor": 0,
  "metadata": {
    "colab": {
      "name": "VAE.ipynb",
      "version": "0.3.2",
      "provenance": [],
      "include_colab_link": true
    },
    "kernelspec": {
      "name": "python3",
      "display_name": "Python 3"
    },
    "accelerator": "GPU"
  },
  "cells": [
    {
      "cell_type": "markdown",
      "metadata": {
        "id": "view-in-github",
        "colab_type": "text"
      },
      "source": [
        "<a href=\"https://colab.research.google.com/github/msc-acse/acse-9-independent-research-project-Garethlomax/blob/baseline_hybrid/VAE.ipynb\" target=\"_parent\"><img src=\"https://colab.research.google.com/assets/colab-badge.svg\" alt=\"Open In Colab\"/></a>"
      ]
    },
    {
      "cell_type": "markdown",
      "metadata": {
        "id": "2kCoGhlyfHLU",
        "colab_type": "text"
      },
      "source": [
        "# IMPORTS"
      ]
    },
    {
      "cell_type": "code",
      "metadata": {
        "id": "vFE8Oevpd134",
        "colab_type": "code",
        "outputId": "8b47b627-ace8-4d37-e1de-5451237eccd2",
        "colab": {
          "base_uri": "https://localhost:8080/",
          "height": 55
        }
      },
      "source": [
        "from google.colab import drive\n",
        "drive.mount('/content/drive')"
      ],
      "execution_count": 21,
      "outputs": [
        {
          "output_type": "stream",
          "text": [
            "Drive already mounted at /content/drive; to attempt to forcibly remount, call drive.mount(\"/content/drive\", force_remount=True).\n"
          ],
          "name": "stdout"
        }
      ]
    },
    {
      "cell_type": "code",
      "metadata": {
        "id": "1EpY3vbmfKCD",
        "colab_type": "code",
        "outputId": "28842768-45ff-4571-bdc5-b0b43a8656a2",
        "colab": {
          "base_uri": "https://localhost:8080/",
          "height": 183
        }
      },
      "source": [
        "# !ls\n",
        "\n",
        "%cd /content/drive/My \\Drive/masters_project/python_modules/MovingMNIST-master\n",
        "\n",
        "# all torch imports\n",
        "import torch\n",
        "import torch.nn as nn\n",
        "import torch.nn.functional as F\n",
        "from torch.utils.data import TensorDataset, DataLoader, Dataset\n",
        "import torchvision.transforms as transforms\n",
        "import numpy as np\n",
        "from sklearn.model_selection import StratifiedShuffleSplit\n",
        "from torchvision import models\n",
        "\n",
        "import matplotlib.pyplot as plt\n",
        "import h5py\n",
        "\n",
        "# importing moving mnist test set.\n",
        "from MovingMNIST import MovingMNIST\n",
        "\n",
        "%cd /content/drive/My \\Drive/masters_project/python_modules/pytorch-summary-master\n",
        "from torchsummary import summary\n",
        "\n",
        "# %cd /content/drive/My \\Drive/masters_project/python_modules/pytorch_modelsize-master\n",
        "\n",
        "%cd /content/drive/My \\Drive/masters_project/python_modules/pytorchvis-master\n",
        "\n",
        "!pip install torchviz\n",
        "\n",
        "torch.backends.cudnn.benchmark = True\n",
        "torch.backends.cudnn.enabled = True\n",
        "\n",
        "\n"
      ],
      "execution_count": 22,
      "outputs": [
        {
          "output_type": "stream",
          "text": [
            "/content/drive/My Drive/masters_project/python_modules/MovingMNIST-master\n",
            "/content/drive/My Drive/masters_project/python_modules/pytorch-summary-master\n",
            "[Errno 2] No such file or directory: '/content/drive/My Drive/masters_project/python_modules/pytorchvis-master'\n",
            "/content/drive/My Drive/masters_project/python_modules/pytorch-summary-master\n",
            "Requirement already satisfied: torchviz in /usr/local/lib/python3.6/dist-packages (0.0.1)\n",
            "Requirement already satisfied: torch in /usr/local/lib/python3.6/dist-packages (from torchviz) (1.1.0)\n",
            "Requirement already satisfied: graphviz in /usr/local/lib/python3.6/dist-packages (from torchviz) (0.10.1)\n",
            "Requirement already satisfied: numpy in /usr/local/lib/python3.6/dist-packages (from torch->torchviz) (1.16.4)\n"
          ],
          "name": "stdout"
        }
      ]
    },
    {
      "cell_type": "markdown",
      "metadata": {
        "id": "ibcwTlI1ohGd",
        "colab_type": "text"
      },
      "source": [
        "## cuda code"
      ]
    },
    {
      "cell_type": "code",
      "metadata": {
        "id": "wdEfZegwojD5",
        "colab_type": "code",
        "colab": {
          "base_uri": "https://localhost:8080/",
          "height": 54
        },
        "outputId": "772457f0-05dc-46a6-d424-28b5ff04c407"
      },
      "source": [
        "\n",
        "device = 'cpu'\n",
        "if torch.cuda.device_count() > 0 and torch.cuda.is_available():\n",
        "    print(\"Cuda installed! Running on GPU!\")\n",
        "    device = 'cuda'\n",
        "else:\n",
        "    print(\"No GPU available!\")\n",
        "    \n",
        "    \n",
        "import random\n",
        "def set_seed(seed):\n",
        "    \"\"\"\n",
        "    Use this to set ALL the random seeds to a fixed value and take out any randomness from cuda kernels\n",
        "    \"\"\"\n",
        "    random.seed(seed)\n",
        "    np.random.seed(seed)\n",
        "    torch.manual_seed(seed)\n",
        "    torch.cuda.manual_seed_all(seed)\n",
        "\n",
        "    torch.backends.cudnn.benchmark = True  ##uses the inbuilt cudnn auto-tuner to find the fastest convolution algorithms. -\n",
        "    torch.backends.cudnn.enabled   = True\n",
        "\n",
        "    return True\n",
        "  \n",
        "set_seed(42)"
      ],
      "execution_count": 23,
      "outputs": [
        {
          "output_type": "stream",
          "text": [
            "Cuda installed! Running on GPU!\n"
          ],
          "name": "stdout"
        },
        {
          "output_type": "execute_result",
          "data": {
            "text/plain": [
              "True"
            ]
          },
          "metadata": {
            "tags": []
          },
          "execution_count": 23
        }
      ]
    },
    {
      "cell_type": "markdown",
      "metadata": {
        "id": "05LjGyTCfL0M",
        "colab_type": "text"
      },
      "source": [
        "# MODEL "
      ]
    },
    {
      "cell_type": "code",
      "metadata": {
        "id": "1S2WAZkgfRPb",
        "colab_type": "code",
        "colab": {}
      },
      "source": [
        "# alex_net = models.A\n",
        "# alex = models.alexnet(pretrained = True)\n",
        "\n",
        "# # make conditioned - give the decoder the last output of encoder as input.\n",
        "# class Enc_Dec(nn.Module):\n",
        "#     def __init__(self):\n",
        "#         super(Enc_Dec, self).__init__()\n",
        "        \n",
        "#         self."
      ],
      "execution_count": 0,
      "outputs": []
    },
    {
      "cell_type": "code",
      "metadata": {
        "id": "FWzjS6ZMux5x",
        "colab_type": "code",
        "colab": {}
      },
      "source": [
        "# alex.features[0] = nn.Conv2d(1,64, kernel_size = (11,11), stride = (4,4), padding = (2,2))\n",
        "# for i, params in enumerate(alex.parameters()):\n",
        "#     if (i==1):\n",
        "#         print(params.data)\n",
        "\n"
      ],
      "execution_count": 0,
      "outputs": []
    },
    {
      "cell_type": "code",
      "metadata": {
        "id": "vR1BDEGSI1Qj",
        "colab_type": "code",
        "colab": {}
      },
      "source": [
        ""
      ],
      "execution_count": 0,
      "outputs": []
    },
    {
      "cell_type": "markdown",
      "metadata": {
        "id": "T8aPqCc_I1ln",
        "colab_type": "text"
      },
      "source": [
        "# Encoder\n",
        "NON VARIATIONAL"
      ]
    },
    {
      "cell_type": "code",
      "metadata": {
        "id": "WTIl-oaCQwaw",
        "colab_type": "code",
        "colab": {}
      },
      "source": [
        "class encoder(nn.Module):\n",
        "    def __init__(self, in_channels, image_dims):\n",
        "        super(encoder, self).__init__()\n",
        "        self.image_dims = image_dims # list of channels, height, width\n",
        "        self.in_chan = in_channels\n",
        "        \n",
        "        \"\"\"activations \"\"\"\n",
        "        self.relu = nn.ReLU()\n",
        "        self.sig = nn.Sigmoid()\n",
        "        \n",
        "        \n",
        "        # need to decide how deep the input is\n",
        "        \"\"\"convolution encoding \"\"\"\n",
        "        self.c1 = nn.Conv2d(self.in_chan, 32, kernel_size = 4, stride = 2)\n",
        "        \n",
        "        self.c2 = nn.Conv2d(32, 64, kernel_size = 4, stride = 2)\n",
        "        \n",
        "        self.c3 = nn.Conv2d(64, 128, kernel_size = 4, stride = 2)\n",
        "        \n",
        "        self.c4 = nn.Conv2d(128, 256, kernel_size = 4, stride = 2)\n",
        "        \n",
        "        self.relu = nn.ReLU()\n",
        "        self.sig = nn.Sigmoid()\n",
        "        \n",
        "        \"\"\" fully connected layer \"\"\"\n",
        "        \n",
        "        self.fc1 = nn.Linear(1024,128)\n",
        "        \n",
        "        self.fc2 = nn.Linear(128,1024)\n",
        "        \n",
        "        self.fc3 = nn.Linear(1024,1024) # get rid of this one\n",
        "        \n",
        "        \"\"\" decoder convolution\"\"\"\n",
        "        # why does not having equal kernel sizes as above not effect it in this way?\n",
        "        \n",
        "        self.t1 = nn.ConvTranspose2d(256, 128, kernel_size=4, stride=1)\n",
        "        \n",
        "        self.t2 = nn.ConvTranspose2d(128, 64, kernel_size=5, stride=2)\n",
        "        \n",
        "        self.t3 = nn.ConvTranspose2d(64, 32, kernel_size=6, stride=2)\n",
        "        \n",
        "        self.t4 = nn.ConvTranspose2d(32, self.in_chan, kernel_size=6, stride=2)\n",
        "        \n",
        "#         self.t1 = nn.ConvTranspose2d(256, 128, kernel_size=4, stride=2, padding = 2)\n",
        "        \n",
        "#         self.t2 = nn.ConvTranspose2d(128, 64, kernel_size=4, stride=2)\n",
        "        \n",
        "#         self.t3 = nn.ConvTranspose2d(64, 32, kernel_size=4, stride=2)\n",
        "        \n",
        "#         self.t4 = nn.ConvTranspose2d(32, self.in_chan, kernel_size=4, stride=2)\n",
        "        \n",
        "    \n",
        "    def encode(self, x):\n",
        "        x = self.relu(self.c1(x))\n",
        "        x = self.relu(self.c2(x))\n",
        "        x = self.relu(self.c3(x))\n",
        "        x = self.relu(self.c4(x))\n",
        "        return x\n",
        "    \n",
        "    def fc_layers(self, x):\n",
        "        #first we flatten\n",
        "        # -1 in pytorch view is the same as -1 in numpy reshape\n",
        "        x = x.view(x.size(0), -1) # using view terminology\n",
        "        \n",
        "        # fully connected layers\n",
        "        # this is an autoencoder with no variation, so no distribution sampling\n",
        "        x = self.fc1(x)\n",
        "        x = self.fc2(x)\n",
        "        x = self.fc3(x) # get rid of this layer.\n",
        "        # x.size(0) allows for variable batch sizes.\n",
        "        size = 256 # size of flattened array going in?\n",
        "        x = x.view(x.size(0), size, 2, 2)\n",
        "#         x = x.view(-1, self.image_dims[0], self.image_dims[1], self.image_dims[2])\n",
        "        \n",
        "        # now we reshape the image back into the square. \n",
        "        return x\n",
        "    \n",
        "    def decode(self, x):\n",
        "#         print(x.shape)\n",
        "        dummy = torch.randn([1,1,64,64])\n",
        "        x = self.relu(self.t1(x))\n",
        "        x = self.relu(self.t2(x))\n",
        "        x = self.relu(self.t3(x))\n",
        "        x = self.relu(self.t4(x, output_size = dummy.size())) #  output_size = dummy.size())\n",
        "        return x\n",
        "        \n",
        "    def forward(self, x):\n",
        "        x = self.encode(x)\n",
        "        x = self.fc_layers(x)\n",
        "        x = self.decode(x)\n",
        "        x = self.sig(x)\n",
        "        return x\n",
        "    \n",
        "        \n",
        "        \n",
        "    \n",
        "        \n",
        "        \n",
        "        \n",
        "        \n",
        "        \n",
        "        \n",
        "        "
      ],
      "execution_count": 0,
      "outputs": []
    },
    {
      "cell_type": "code",
      "metadata": {
        "id": "PBjc9ljPVX7Y",
        "colab_type": "code",
        "colab": {}
      },
      "source": [
        "x = torch.randn([1,1,64,64])\n"
      ],
      "execution_count": 0,
      "outputs": []
    },
    {
      "cell_type": "code",
      "metadata": {
        "id": "kYz5eAPlr8gT",
        "colab_type": "code",
        "colab": {}
      },
      "source": [
        "test = encoder(1, [1,64,64]).double()\n"
      ],
      "execution_count": 0,
      "outputs": []
    },
    {
      "cell_type": "code",
      "metadata": {
        "id": "2pGufv6Ls_Jl",
        "colab_type": "code",
        "colab": {}
      },
      "source": [
        "# test"
      ],
      "execution_count": 0,
      "outputs": []
    },
    {
      "cell_type": "code",
      "metadata": {
        "id": "FA6_5F3CsEQY",
        "colab_type": "code",
        "colab": {
          "base_uri": "https://localhost:8080/",
          "height": 290
        },
        "outputId": "a899ac71-2c19-4029-823d-11b6ccddb342"
      },
      "source": [
        "test.eval()"
      ],
      "execution_count": 677,
      "outputs": [
        {
          "output_type": "execute_result",
          "data": {
            "text/plain": [
              "encoder(\n",
              "  (relu): ReLU()\n",
              "  (sig): Sigmoid()\n",
              "  (c1): Conv2d(1, 32, kernel_size=(4, 4), stride=(2, 2))\n",
              "  (c2): Conv2d(32, 64, kernel_size=(4, 4), stride=(2, 2))\n",
              "  (c3): Conv2d(64, 128, kernel_size=(4, 4), stride=(2, 2))\n",
              "  (c4): Conv2d(128, 256, kernel_size=(4, 4), stride=(2, 2))\n",
              "  (fc1): Linear(in_features=1024, out_features=128, bias=True)\n",
              "  (fc2): Linear(in_features=128, out_features=1024, bias=True)\n",
              "  (fc3): Linear(in_features=1024, out_features=1024, bias=True)\n",
              "  (t1): ConvTranspose2d(256, 128, kernel_size=(4, 4), stride=(1, 1))\n",
              "  (t2): ConvTranspose2d(128, 64, kernel_size=(5, 5), stride=(2, 2))\n",
              "  (t3): ConvTranspose2d(64, 32, kernel_size=(6, 6), stride=(2, 2))\n",
              "  (t4): ConvTranspose2d(32, 1, kernel_size=(6, 6), stride=(2, 2))\n",
              ")"
            ]
          },
          "metadata": {
            "tags": []
          },
          "execution_count": 677
        }
      ]
    },
    {
      "cell_type": "markdown",
      "metadata": {
        "id": "vy_kaggJzClW",
        "colab_type": "text"
      },
      "source": [
        "## troubleshooting"
      ]
    },
    {
      "cell_type": "code",
      "metadata": {
        "id": "_lt9Wd7esG2V",
        "colab_type": "code",
        "colab": {
          "base_uri": "https://localhost:8080/",
          "height": 1000
        },
        "outputId": "98e86430-4d1e-49ff-c607-ceb5fc9e4fea"
      },
      "source": [
        "plt.imshow(x[0][0])\n",
        "plt.figure()\n",
        "with torch.no_grad():\n",
        "    x = x.double()\n",
        "#     print(test.type)\n",
        "    out = test(x)\n",
        "#     out.detatch()\n",
        "    print(out.dtype)\n",
        "    plt.imshow(out[0][0])\n",
        "    print(out.shape)\n",
        "    # why are all these values 0.5?\n",
        "    \n",
        "    print(out[0][0][4][14])\n",
        "    out1 = test.encode(x)\n",
        "    print(out1.shape)\n",
        "    plt.figure()\n",
        "    plt.imshow(out1[0][0])\n",
        "    # decode now\n",
        "    plt.figure()\n",
        "    out2 = test.decode(out1)\n",
        "    print(out2.shape)\n",
        "    plt.imshow(out2[0][0])"
      ],
      "execution_count": 678,
      "outputs": [
        {
          "output_type": "stream",
          "text": [
            "torch.float64\n",
            "torch.Size([1, 1, 64, 64])\n",
            "tensor(0.5382, dtype=torch.float64)\n",
            "torch.Size([1, 256, 2, 2])\n",
            "torch.Size([1, 1, 64, 64])\n"
          ],
          "name": "stdout"
        },
        {
          "output_type": "display_data",
          "data": {
            "image/png": "[encoded data removed]",
            "text/plain": [
              "<Figure size 432x288 with 1 Axes>"
            ]
          },
          "metadata": {
            "tags": []
          }
        },
        {
          "output_type": "display_data",
          "data": {
            "image/png": "[encoded data removed]",
            "text/plain": [
              "<Figure size 432x288 with 1 Axes>"
            ]
          },
          "metadata": {
            "tags": []
          }
        },
        {
          "output_type": "display_data",
          "data": {
            "image/png": "[encoded data removed]",
            "text/plain": [
              "<Figure size 432x288 with 1 Axes>"
            ]
          },
          "metadata": {
            "tags": []
          }
        },
        {
          "output_type": "display_data",
          "data": {
            "image/png": "[encoded data removed]",
            "text/plain": [
              "<Figure size 432x288 with 1 Axes>"
            ]
          },
          "metadata": {
            "tags": []
          }
        }
      ]
    },
    {
      "cell_type": "code",
      "metadata": {
        "id": "aJSpwPteZP-b",
        "colab_type": "code",
        "colab": {}
      },
      "source": [
        ""
      ],
      "execution_count": 0,
      "outputs": []
    },
    {
      "cell_type": "markdown",
      "metadata": {
        "id": "EHnyCUjKV6EZ",
        "colab_type": "text"
      },
      "source": [
        "# Modified moving MNIST dataset\n"
      ]
    },
    {
      "cell_type": "code",
      "metadata": {
        "id": "5vY-fr24V445",
        "colab_type": "code",
        "colab": {}
      },
      "source": [
        "class HDF5Dataset_randn(Dataset):\n",
        "    \"\"\"dataset wrapper for hdf5 dataset to allow for lazy loading of data. This \n",
        "    allows ram to be conserved. \n",
        "    \n",
        "    As the hdf5 dataset is not partitioned into test and validation, the dataset \n",
        "    takes a shuffled list of indices to allow specification of training and \n",
        "    validation sets.\n",
        "    \n",
        "    MAKE SURE TO CALL DEL ON GENERATED OBJECTS OTHERWISE WE WILL CLOG UP RAM\n",
        "    \n",
        "    \"\"\"\n",
        "    \n",
        "    def __init__(self, path, index_map, transform = None):\n",
        "        \n",
        "        %cd /content/drive/My \\Drive/masters_project/data \n",
        "        # changes directory to the one where needed.\n",
        "        \n",
        "        self.path = path\n",
        "        \n",
        "        self.index_map = index_map # maps to the index in the validation split\n",
        "        # due to hdf5 lazy loading index map must be in ascending order.\n",
        "        # this may be an issue as we should shuffle our dataset.\n",
        "        # this will be raised as an issue as we consider a work around.\n",
        "        # we should keep index map shuffled, and take the selection from the \n",
        "        # shuffled map and select in ascending order. \n",
        "        \n",
        "        \n",
        "        self.file = h5py.File(path, 'r')\n",
        "        \n",
        "        \n",
        "        \n",
        "        \n",
        "        \n",
        "        \n",
        "    def __len__(self):\n",
        "        return len(self.index_map)\n",
        "    \n",
        "    def __getitem__(self,i):\n",
        "        \n",
        "        i = self.index_map[i] # index maps from validation set to select new orders\n",
        "#         print(i)\n",
        "        if isinstance(i, list): # if i is a list. \n",
        "            i.sort() # sorts into ascending order as specified above\n",
        "            \n",
        "        \"\"\"TODO: CHECK IF THIS RETURNS DOUBLE\"\"\"\n",
        "        \n",
        "        # random index for subsampling. \n",
        "        rand_index = np.random.randint(10) # random index 0 - 9\n",
        "        \n",
        "#         predictor = torch.tensor(self.file[\"predictor\"][i])\n",
        "        \n",
        "        truth = torch.tensor(self.file[\"truth\"][i,rand_index]) # change to fancy indexing. \n",
        "        \n",
        "        return truth"
      ],
      "execution_count": 0,
      "outputs": []
    },
    {
      "cell_type": "code",
      "metadata": {
        "id": "SQB2-Ukmcljc",
        "colab_type": "code",
        "colab": {}
      },
      "source": [
        "def initialise_dataset_HDF5_randn(dataset_length = 9000):\n",
        "    \"\"\"\n",
        "    Returns datasets for training and validation. \n",
        "    \n",
        "    Loads in datasets segmenting for validation fractions.\n",
        "   \n",
        "    \n",
        "    \n",
        "    \"\"\"\n",
        "    dummy = np.array(range(dataset_length)) # clean this up - not really needed\n",
        "    \n",
        "    \n",
        "    \n",
        "    train_dataset = HDF5Dataset_randn(\"train_set.hdf5\", index_map = dummy)\n",
        "\n",
        "    \n",
        "    return train_dataset\n",
        "        \n"
      ],
      "execution_count": 0,
      "outputs": []
    },
    {
      "cell_type": "code",
      "metadata": {
        "id": "M-rO4_qFdN3R",
        "colab_type": "code",
        "colab": {}
      },
      "source": [
        "# dat = initialise_dataset_HDF5_randn()\n",
        "\n"
      ],
      "execution_count": 0,
      "outputs": []
    },
    {
      "cell_type": "code",
      "metadata": {
        "id": "LOTU3Xc8d0up",
        "colab_type": "code",
        "colab": {}
      },
      "source": [
        "# # plt.imshow(dat[0:3][0][0])\n",
        "# with torch.no_grad():\n",
        "#     out = test(dat[0:1])\n",
        "# #     out.detatch()\n",
        "#     plt.imshow(out[0][0])\n",
        "#     print(out.shape)\n",
        "#     # why are all these values 0.5?\n",
        "    \n",
        "#     print(out[0][0][4][14])"
      ],
      "execution_count": 0,
      "outputs": []
    },
    {
      "cell_type": "code",
      "metadata": {
        "id": "v6VyjOoLeEhI",
        "colab_type": "code",
        "colab": {}
      },
      "source": [
        ""
      ],
      "execution_count": 0,
      "outputs": []
    },
    {
      "cell_type": "markdown",
      "metadata": {
        "id": "d8jUtGjIeUC0",
        "colab_type": "text"
      },
      "source": [
        "# TRAINING FUNCTIONS"
      ]
    },
    {
      "cell_type": "code",
      "metadata": {
        "id": "3WUyxZuheVz4",
        "colab_type": "code",
        "colab": {}
      },
      "source": [
        "def train(model, optimizer, data_loader, loss_func):\n",
        "    model.train()\n",
        "    loss_tot = 0\n",
        "    for x in data_loader:\n",
        "        x = x.to(device)\n",
        "        optimizer.zero_grad()\n",
        "        pred = model(x)\n",
        "        \n",
        "        loss = loss_func(pred, x)\n",
        "        loss.backward()\n",
        "        loss_tot += loss\n",
        "        optimizer.step()\n",
        "    return loss_tot / 9000\n",
        "\n",
        "def train_full(batch_size, epochs = 300):\n",
        "    model = (encoder(1, [1,64,64]).double()).to(device)\n",
        "    optimizer = torch.optim.Adam(model.parameters()) # default learning rate\n",
        "    \n",
        "    dataset = initialise_dataset_HDF5_randn()\n",
        "    \n",
        "    dataloader = DataLoader(dataset, batch_size = batch_size, shuffle = True)\n",
        "    \n",
        "    loss_func = nn.BCELoss()\n",
        "#     loss_func = nn.BCELoss() not working for some reason. \n",
        "    \n",
        "    print(\"TRAINING START\")\n",
        "    \n",
        "    for epoch in range(epochs):\n",
        "        loss_val = train(model, optimizer, dataloader, loss_func)\n",
        "        torch.save(optimizer.state_dict(), F\"Adam_encoder\"+str(epoch)+\".pth\")\n",
        "        torch.save(model.state_dict(), F\"encoder_\"+str(epoch)+\".pth\")\n",
        "        \n",
        "        print(\"ENCODER LOSS:\" , loss_val)\n",
        "        \n",
        "    \n",
        "    return model\n"
      ],
      "execution_count": 0,
      "outputs": []
    },
    {
      "cell_type": "code",
      "metadata": {
        "id": "G9h0o49NqAA9",
        "colab_type": "code",
        "colab": {
          "base_uri": "https://localhost:8080/",
          "height": 35
        },
        "outputId": "ae4a3131-e167-40a2-eb96-5e4fb9c2535a"
      },
      "source": [
        "device\n"
      ],
      "execution_count": 683,
      "outputs": [
        {
          "output_type": "execute_result",
          "data": {
            "text/plain": [
              "'cuda'"
            ]
          },
          "metadata": {
            "tags": []
          },
          "execution_count": 683
        }
      ]
    },
    {
      "cell_type": "code",
      "metadata": {
        "id": "yoNs2fZ4oRld",
        "colab_type": "code",
        "colab": {}
      },
      "source": [
        "enc = train_full(batch_size = 128)"
      ],
      "execution_count": 0,
      "outputs": []
    }
  ]
}