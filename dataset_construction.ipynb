{
  "nbformat": 4,
  "nbformat_minor": 0,
  "metadata": {
    "colab": {
      "name": "dataset_construction.ipynb",
      "version": "0.3.2",
      "provenance": [],
      "collapsed_sections": [],
      "include_colab_link": true
    },
    "kernelspec": {
      "name": "python3",
      "display_name": "Python 3"
    }
  },
  "cells": [
    {
      "cell_type": "markdown",
      "metadata": {
        "id": "view-in-github",
        "colab_type": "text"
      },
      "source": [
        "<a href=\"https://colab.research.google.com/github/msc-acse/acse-9-independent-research-project-Garethlomax/blob/data_curation/dataset_construction.ipynb\" target=\"_parent\"><img src=\"https://colab.research.google.com/assets/colab-badge.svg\" alt=\"Open In Colab\"/></a>"
      ]
    },
    {
      "cell_type": "markdown",
      "metadata": {
        "id": "ggKpljorcaJz",
        "colab_type": "text"
      },
      "source": [
        "# IMPORTS\n",
        "We are constructing using the functions in the accompanying .py files as computer doesnt have enough ram to handle full dataset.\n"
      ]
    },
    {
      "cell_type": "code",
      "metadata": {
        "id": "nC7dWRZDg-To",
        "colab_type": "code",
        "outputId": "d69d2d8e-c757-4e6c-821c-e246eb30d385",
        "colab": {
          "base_uri": "https://localhost:8080/",
          "height": 124
        }
      },
      "source": [
        "from google.colab import drive\n",
        "drive.mount('/content/drive')"
      ],
      "execution_count": 1,
      "outputs": [
        {
          "output_type": "stream",
          "text": [
            "Go to this URL in a browser: https://accounts.google.com/o/oauth2/auth?client_id=947318989803-6bn6qk8qdgf4n4g3pfee6491hc0brc4i.apps.googleusercontent.com&redirect_uri=urn%3Aietf%3Awg%3Aoauth%3A2.0%3Aoob&scope=email%20https%3A%2F%2Fwww.googleapis.com%2Fauth%2Fdocs.test%20https%3A%2F%2Fwww.googleapis.com%2Fauth%2Fdrive%20https%3A%2F%2Fwww.googleapis.com%2Fauth%2Fdrive.photos.readonly%20https%3A%2F%2Fwww.googleapis.com%2Fauth%2Fpeopleapi.readonly&response_type=code\n",
            "\n",
            "Enter your authorization code:\n",
            "··········\n",
            "Mounted at /content/drive\n"
          ],
          "name": "stdout"
        }
      ]
    },
    {
      "cell_type": "code",
      "metadata": {
        "id": "joQx8rOZcK1q",
        "colab_type": "code",
        "colab": {}
      },
      "source": [
        "\n",
        "import numpy as np\n",
        "import matplotlib.pyplot as plt\n",
        "import pandas as pd\n",
        "import seaborn as sns\n",
        "import h5py\n",
        "import random"
      ],
      "execution_count": 0,
      "outputs": []
    },
    {
      "cell_type": "markdown",
      "metadata": {
        "id": "nvT_wvBzfxhR",
        "colab_type": "text"
      },
      "source": [
        "# FUNCTIONS"
      ]
    },
    {
      "cell_type": "code",
      "metadata": {
        "id": "-PhZpnw6fzH7",
        "colab_type": "code",
        "colab": {}
      },
      "source": [
        "def date_to_int_list(date):\n",
        "    # date is in format yyyy-mm-dd\n",
        "\n",
        "    y = int(date[0:4])\n",
        "    m = int(date[5:7])\n",
        "    d = int(date[8:10])\n",
        "\n",
        "#    print(\"date is:\")\n",
        "#    print(y, \" \",m, \" \", d)\n",
        "    return [y,m,d]\n",
        "\n",
        "def monotonic_date(date, baseline = [1989, 1, 1]):\n",
        "\n",
        "    date = date_to_int_list(date)\n",
        "#    print(type(date[0]))\n",
        "#    print(type(baseline[0]))\n",
        "    # turns date since baseline start date into a monotonic function based on\n",
        "    # year and months in line with pgm unit of analysis\n",
        "    return date[1] - baseline[1] + ((date[0] - baseline[0]) * 12)\n",
        "\n",
        "\n",
        "\n",
        "def construct_layer(dataframe, key, prio_key = \"gid\", debug = False):\n",
        "    # returns 360 720 grid layer for a given parameter\n",
        "    # should be given for one parameter per year.\n",
        "    array = np.zeros(360*720)\n",
        "    prio_grid = dataframe[prio_key]\n",
        "    for i in range(len(prio_grid)):\n",
        "        j = prio_grid.iloc[i] - 1\n",
        "        \"\"\"change the below to only be in the case it isnt nan\"\"\" # will this cause problems?\n",
        "        array[j] += dataframe[key].iloc[i]\n",
        "    array.resize(360,720)\n",
        "\n",
        "    return array\n",
        "\n",
        "def construct_combined_sequence(dataframe_prio, dataframe_ucdp, key_list_prio, key_list_ucdp, start = [1989, 1,1], stop = [2014,1,1]):\n",
        "    stop  = '2014-01-01'\n",
        "    # need to adapt ged and other year / month vs ged database for this.\n",
        "    # bool prio to add multiples of 12 to each year usin prio grid.\n",
        "    num_month = monotonic_date(stop, start)\n",
        "    print(num_month)\n",
        "    comb_channel_len = len(key_list_prio) + len(key_list_ucdp)\n",
        "    print(comb_channel_len)\n",
        "    array = np.zeros((num_month, comb_channel_len, 360,720))\n",
        "\n",
        "    stop = date_to_int_list(stop)\n",
        "\n",
        "    month = 0\n",
        "    for i in range(start[0], stop[0]):\n",
        "        for j in range(12): # for each month\n",
        "            # now fill in selected channels as requried.\n",
        "\n",
        "            array[month][:len(key_list_ucdp)] = construct_channels(dataframe_ucdp[dataframe_ucdp.mon_month == month], key_list = key_list_ucdp, prio_key = \"priogrid_gid\")\n",
        "            array[month][len(key_list_ucdp):] = construct_channels(dataframe_prio[dataframe_prio.year == i], key_list = key_list_prio, prio_key = 'gid')\n",
        "            print(month)\n",
        "\n",
        "            month += 1\n",
        "    del month\n",
        "    return array\n",
        "\n",
        "\n",
        "\n",
        "def construct_channels(dataframe, key_list, prio_key = \"gid\"):\n",
        "    # usually used for prio\n",
        "    array = np.zeros((len(key_list), 360, 720))\n",
        "    for i, keys in enumerate(key_list):\n",
        "        array[i] = construct_layer(dataframe, key = keys, prio_key = prio_key)\n",
        "    return array\n",
        "\n",
        "\n",
        "\"\"\"check how we are dealing with cases that go up to and including the final step\"\"\"\n",
        "\n",
        "def construct_sequence(dataframe, key_list, prio_key = 'gid', start = [1989, 1, 1], stop = [2014,1,1], prio = False):\n",
        "    stop  = '2014-01-01'\n",
        "    # need to adapt ged and other year / month vs ged database for this.\n",
        "    # bool prio to add multiples of 12 to each year usin prio grid.\n",
        "    num_month = monotonic_date(stop, start)\n",
        "\n",
        "\n",
        "\n",
        "\n",
        "    if prio == False:\n",
        "        # i.e if doing ucdp\n",
        "        # presumes adapted ucdp\n",
        "        # seq length, channels, height, width\n",
        "        array = np.zeros((num_month, len(key_list), 360, 720))\n",
        "\n",
        "        for month in range(num_month):\n",
        "            array[month] = construct_channels(dataframe[dataframe.mon_month == month], key_list = key_list, prio_key = \"priogrid_gid\")\n",
        "\n",
        "            # now for\n",
        "#            array[i] =\n",
        "    elif prio:\n",
        "        stop = [2014,1,1]\n",
        "        array = np.zeros((num_month, len(key_list), 360, 720))\n",
        "        # now for the prio grid data.\n",
        "        # need to make up remainder of start year,\n",
        "        # then multiples of 12 for each year\n",
        "        # then remainder of end year.\n",
        "\n",
        "        \"\"\"this presumes start dates @ start of year no more no less\"\"\"\n",
        "        # need to plus one at the end\n",
        "        month = 0\n",
        "        for i in range(start[0], stop[0]):\n",
        "            for j in range(12): # for each month\n",
        "                array[month] = construct_channels(dataframe[dataframe.year == i], key_list = key_list, prio_key = 'gid')\n",
        "                print(month)\n",
        "\n",
        "                month += 1\n",
        "        del month\n",
        "\n",
        "\n",
        "\n",
        "\n",
        "\n",
        "#        start_months = 13 - start[1] # i.e if its 1989,1,1 then there are 12 months left.\n",
        "#        years = stop[0] - start[0]  - 1 # -1 as due to method of making up start months. i.e\n",
        "#        # want [2013,1,1] [2014,1,1] to be dependant of start and stop months and have no year * 12 months additions\n",
        "#        finish_months = stop[1] # stop months\n",
        "#        months_interim = np.arange(start[0], stop[0]+1, 1)\n",
        "#\n",
        "#        ######\n",
        "#\n",
        "#        # now the start month multiples\n",
        "#        for i in range(start_months):\n",
        "#            array[i] = construct_channels(dataframe[dataframe.year == start[0]], key_list = key_list, prio_key = \"gid\")\n",
        "#        # double check prio yearly - try to get monthly values out.\n",
        "#\n",
        "#        for i in range(years):\n",
        "#            for j in range(i *12, (i+1)* 12):\n",
        "#                array[j]\n",
        "\n",
        "\n",
        "    return array\n",
        "\n",
        "\n",
        "def date_column(dataframe, baseline = [1989,1,1]):\n",
        "    # puts new column on dataframe, no need to return.\n",
        "    # date start just as dummy atm\n",
        "#    dataframe = dataframe[\"date_start\"]\n",
        "    vals = dataframe[\"date_start\"].values\n",
        "    new_col = np.array([monotonic_date(string_date) for string_date in vals])\n",
        "    dataframe[\"mon_month\"] = new_col\n",
        "\n",
        "def h5py_conversion(data_array, filename, key_list_ucdp, key_list_prio):\n",
        "    # this is for saving the default 360:720 file to chop out of.\n",
        "    # lazy loading saves the day\n",
        "    # all day\n",
        "    # every day\n",
        "    f = h5py.File(\"{}.hdf5\".format(filename), \"w\")\n",
        "\n",
        "    f.create_dataset(\"data_combined\", data = data_array)\n",
        "\n",
        "    f.close()\n",
        "\n",
        "\n",
        "\n",
        "    csv = open(name + \"_config.csv\", 'w')\n",
        "    csv.write(\"Included data UCDP:\\n\")\n",
        "    for key in key_list_ucdp:\n",
        "        csv.write(key + \"\\n\")\n",
        "\n",
        "    csv.write(\"Included data PRIO:\\n\")\n",
        "    for key in key_list_prio:\n",
        "        csv.write(key + \"\\n\")\n",
        "    csv.close()\n"
      ],
      "execution_count": 0,
      "outputs": []
    },
    {
      "cell_type": "code",
      "metadata": {
        "id": "AdH8e_Alf5r7",
        "colab_type": "code",
        "colab": {}
      },
      "source": [
        "def raster_test(input_data, chunk_size = 16):\n",
        "    # to overcome edge sizes can make selection large if we just reject the training data for outside africa\n",
        "    # although we do not necessarily need to do this\n",
        "    # i.e expand box and allow less sampled box to sampel others more frequently.\n",
        "\n",
        "    # step size is always 1\n",
        "    # assuming image is a cutout of globe\n",
        "    # this is for single step, single channel as a test.\n",
        "    step = 1\n",
        "    height = input_data.shape[-2]\n",
        "    width = input_data.shape[-1]\n",
        "    for i in range(height - chunk_size + 1):\n",
        "        for j in range(width - chunk_size+1):\n",
        "            print(input_data[:,i:i+chunk_size,j:j + chunk_size])\n",
        "            print(\".\")\n",
        "\n",
        "#    plt.imshow(input_data)\n",
        "\n",
        "def raster_selection(input_data, chunk_size = 16):\n",
        "    # here input_data is sequence step.\n",
        "    # data should be of dimensions seq, channels, height, width.\n",
        "    # to overcome edge sizes can make selection large if we just reject the training data for outside africa\n",
        "    # although we do not necessarily need to do this\n",
        "    # i.e expand box and allow less sampled box to sampel others more frequently.\n",
        "\n",
        "    # step size is always 1\n",
        "    # assuming image is a cutout of globe\n",
        "    # this is for single step, single channel as a test.\n",
        "    step = 1\n",
        "    height = input_data.shape[-2]\n",
        "    width = input_data.shape[-1]\n",
        "    # this is not efficient.\n",
        "    for i in range(height - chunk_size + 1):\n",
        "        for j in range(width - chunk_size+1):\n",
        "            input_data[0][i:i+chunk_size,j:j + chunk_size]\n",
        "\n",
        "    plt.imshow(input_data)\n",
        "\n",
        "\n",
        "def random_pixel_bounds(i, j, chunk_size = 16):\n",
        "    # returns the bounds of the image to select with a random pixel size.\n",
        "\n",
        "    height = random.randint(0, chunk_size-1)\n",
        "    width = random.randint(0, chunk_size-1)\n",
        "    # this randomly generates a of the image for where the pixel may be located\n",
        "    # randomly in the cut out image.\n",
        "    i_lower = i - height\n",
        "    i_upper = i + (chunk_size - height)\n",
        "\n",
        "    j_lower = j - width\n",
        "    j_upper = j + (chunk_size - width)\n",
        "\n",
        "    return [i_lower, i_upper, j_lower, j_upper]\n",
        "\n",
        "def random_selection(image, i, j, chunk_size = 16):\n",
        "\n",
        "    i_lower, i_upper, j_lower, j_upper = random_pixel_bounds(i, j, chunk_size = chunk_size)\n",
        "\n",
        "    print(image[i_lower:i_upper,j_lower:j_upper])\n",
        "\n",
        "def random_grid_selection(image, sequence_step, chunk_size= 16, draws = 5, debug = True):\n",
        "    if debug:\n",
        "        print(\"Image shape is:\" , image.shape)\n",
        "\n",
        "\n",
        "    # decide if this is going to be h5py loaded.\n",
        "\n",
        "    # decide what sequence step is going to be like and how to return it\n",
        "\n",
        "    # image is seq, channels, height, width\n",
        "\n",
        "    # here we are using a seq length of 10. - could use 12 but atm we go for 10.\n",
        "\n",
        "    # sequence step is the step at which the TRUTH is being extracted. the predictor sequence\n",
        "    # is extracted from the 10 preceding steps. be careful to send in from i > 11\n",
        "    assert sequence_step > 10, (\"This function selects the datapoints from this test set that contain\"\n",
        "                                \"a conflict event and then selects predictor data from the 10 preceding steps\"\n",
        "                                \" as a result i > 10 must be true\")\n",
        "    # for sequence step, 0th layer - i.e fatalities\n",
        "    y, x = np.where(image[sequence_step][0] >= 1)\n",
        "\n",
        "    if debug:\n",
        "        print(x.shape)\n",
        "\n",
        "    truth_list = []\n",
        "    predictor_list = []\n",
        "\n",
        "    # re arange for loops for speed?\n",
        "    for i,j in zip(y, x): # now over sites where fatalities have occured\n",
        "        for _ in range(draws):\n",
        "            i_lower, i_upper, j_lower, j_upper = random_pixel_bounds(i, j, chunk_size=chunk_size)\n",
        "\n",
        "            # now need to work out how to store these. how to stack ontop ect.\n",
        "            truth = image[sequence_step][0,i_lower:i_upper,j_lower:j_upper]\n",
        "            # check these dimensions\n",
        "            predictors = image[i-10:i, :,i_lower:i_upper,j_lower:j_upper]\n",
        "\n",
        "            truth_list.append(truth)\n",
        "            predictor_list.append(predictors)\n",
        "\n",
        "    # finally we combine the previous arrays.\n",
        "\n",
        "    return np.stack(predictor_list, axis= 0), np.stack(truth_list, axis = 0)\n",
        "\n",
        "\n",
        "def full_dataset_numpy(image, chunk_size = 16, draws = 5, debug = False):\n",
        "    # image is seq, channels, height, width\n",
        "    predictor_list = []\n",
        "    truth_list = []\n",
        "    for i in range(11, len(image)):\n",
        "        t1, t2 = random_grid_selection(image, i)\n",
        "        predictor_list.append(t1)\n",
        "        truth_list.append(t2)\n",
        "\n",
        "    truth_np = np.concatenate(truth_list, axis = 0)\n",
        "    predictor_np = np.concatenate(predictor_list, axis =0)\n",
        "    return predictor_np, truth_np\n",
        "\n",
        "def quick_dataset(data, name):\n",
        "    f = h5py.File(name + \".hdf5\", \"w\")\n",
        "    f.create_dataset(\"main\", data = data)\n",
        "#    f.create_dataset(\"truth\", data = truth)\n",
        "    f.close()\n",
        "\n",
        "\n",
        "\n",
        "\n",
        "#data = pd.read_csv(\"data/ged191.csv\")\n",
        "\n",
        "def debug_func1(dataframe, month):\n",
        "    a = dataframe[dataframe.mon_month == month]\n",
        "    print(len(a[a.best >0]))\n"
      ],
      "execution_count": 0,
      "outputs": []
    },
    {
      "cell_type": "code",
      "metadata": {
        "id": "4WG8VQ4Of_A7",
        "colab_type": "code",
        "colab": {}
      },
      "source": [
        "def raster_test(input_data, chunk_size = 16):\n",
        "    # to overcome edge sizes can make selection large if we just reject the training data for outside africa\n",
        "    # although we do not necessarily need to do this\n",
        "    # i.e expand box and allow less sampled box to sampel others more frequently.\n",
        "\n",
        "    # step size is always 1\n",
        "    # assuming image is a cutout of globe\n",
        "    # this is for single step, single channel as a test.\n",
        "    step = 1\n",
        "    height = input_data.shape[-2]\n",
        "    width = input_data.shape[-1]\n",
        "    for i in range(height - chunk_size + 1):\n",
        "        for j in range(width - chunk_size+1):\n",
        "            print(input_data[:,i:i+chunk_size,j:j + chunk_size])\n",
        "            print(\".\")\n",
        "\n",
        "#    plt.imshow(input_data)\n",
        "\n",
        "def raster_selection(input_data, chunk_size = 16):\n",
        "    # here input_data is sequence step.\n",
        "    # data should be of dimensions seq, channels, height, width.\n",
        "    # to overcome edge sizes can make selection large if we just reject the training data for outside africa\n",
        "    # although we do not necessarily need to do this\n",
        "    # i.e expand box and allow less sampled box to sampel others more frequently.\n",
        "\n",
        "    # step size is always 1\n",
        "    # assuming image is a cutout of globe\n",
        "    # this is for single step, single channel as a test.\n",
        "    step = 1\n",
        "    height = input_data.shape[-2]\n",
        "    width = input_data.shape[-1]\n",
        "    # this is not efficient.\n",
        "    for i in range(height - chunk_size + 1):\n",
        "        for j in range(width - chunk_size+1):\n",
        "            input_data[0][i:i+chunk_size,j:j + chunk_size]\n",
        "\n",
        "    plt.imshow(input_data)\n",
        "\n",
        "\n",
        "def random_pixel_bounds(i, j, chunk_size = 16):\n",
        "    # returns the bounds of the image to select with a random pixel size.\n",
        "\n",
        "    height = random.randint(0, chunk_size-1)\n",
        "    width = random.randint(0, chunk_size-1)\n",
        "    # this randomly generates a of the image for where the pixel may be located\n",
        "    # randomly in the cut out image.\n",
        "    i_lower = i - height\n",
        "    i_upper = i + (chunk_size - height)\n",
        "\n",
        "    j_lower = j - width\n",
        "    j_upper = j + (chunk_size - width)\n",
        "\n",
        "    return [i_lower, i_upper, j_lower, j_upper]\n",
        "\n",
        "def random_selection(image, i, j, chunk_size = 16):\n",
        "\n",
        "    i_lower, i_upper, j_lower, j_upper = random_pixel_bounds(i, j, chunk_size = chunk_size)\n",
        "\n",
        "    print(image[i_lower:i_upper,j_lower:j_upper])\n",
        "\n",
        "def random_grid_selection(image, sequence_step, chunk_size= 16, draws = 5, debug = True):\n",
        "    if debug:\n",
        "        print(\"Image shape is:\" , image.shape)\n",
        "\n",
        "\n",
        "    # decide if this is going to be h5py loaded.\n",
        "\n",
        "    # decide what sequence step is going to be like and how to return it\n",
        "\n",
        "    # image is seq, channels, height, width\n",
        "\n",
        "    # here we are using a seq length of 10. - could use 12 but atm we go for 10.\n",
        "\n",
        "    # sequence step is the step at which the TRUTH is being extracted. the predictor sequence\n",
        "    # is extracted from the 10 preceding steps. be careful to send in from i > 11\n",
        "    assert sequence_step > 10, (\"This function selects the datapoints from this test set that contain\"\n",
        "                                \"a conflict event and then selects predictor data from the 10 preceding steps\"\n",
        "                                \" as a result i > 10 must be true\")\n",
        "    # for sequence step, 0th layer - i.e fatalities\n",
        "    y, x = np.where(image[sequence_step][0] >= 1)\n",
        "\n",
        "    if debug:\n",
        "        print(x.shape)\n",
        "\n",
        "    truth_list = []\n",
        "    predictor_list = []\n",
        "\n",
        "    # re arange for loops for speed?\n",
        "    for i,j in zip(y, x): # now over sites where fatalities have occured\n",
        "        for _ in range(draws):\n",
        "            i_lower, i_upper, j_lower, j_upper = random_pixel_bounds(i, j, chunk_size=chunk_size)\n",
        "\n",
        "            # now need to work out how to store these. how to stack ontop ect.\n",
        "            truth = image[sequence_step][0,i_lower:i_upper,j_lower:j_upper]\n",
        "            # check these dimensions\n",
        "            predictors = image[i-10:i, :,i_lower:i_upper,j_lower:j_upper]\n",
        "\n",
        "            truth_list.append(truth)\n",
        "            predictor_list.append(predictors)\n",
        "\n",
        "    # finally we combine the previous arrays.\n",
        "\n",
        "    return np.stack(predictor_list, axis= 0), np.stack(truth_list, axis = 0)\n",
        "\n",
        "\n",
        "def full_dataset_numpy(image, chunk_size = 16, draws = 5, debug = False):\n",
        "    # image is seq, channels, height, width\n",
        "    predictor_list = []\n",
        "    truth_list = []\n",
        "    for i in range(11, len(image)):\n",
        "        t1, t2 = random_grid_selection(image, i)\n",
        "        predictor_list.append(t1)\n",
        "        truth_list.append(t2)\n",
        "\n",
        "    truth_np = np.concatenate(truth_list, axis = 0)\n",
        "    predictor_np = np.concatenate(predictor_list, axis =0)\n",
        "    return predictor_np, truth_np\n",
        "\n",
        "def quick_dataset(data, name):\n",
        "    f = h5py.File(name + \".hdf5\", \"w\")\n",
        "    f.create_dataset(\"main\", data = data)\n",
        "#    f.create_dataset(\"truth\", data = truth)\n",
        "    f.close()\n",
        "\n",
        "\n",
        "\n",
        "\n",
        "#data = pd.read_csv(\"data/ged191.csv\")\n",
        "\n",
        "def debug_func1(dataframe, month):\n",
        "    a = dataframe[dataframe.mon_month == month]\n",
        "    print(len(a[a.best >0]))\n"
      ],
      "execution_count": 0,
      "outputs": []
    },
    {
      "cell_type": "code",
      "metadata": {
        "id": "YfrOf9qBMADY",
        "colab_type": "code",
        "colab": {}
      },
      "source": [
        "def binary_event_column(dataframe):\n",
        "    \"\"\" as it is hard to encode categorical information about battles when\n",
        "    battle deaths = 0, we then encode a binary - 0, 1 layer pertaining to\n",
        "    whether an event took place\"\"\"\n",
        "    new_col = np.ones(len(dataframe))\n",
        "    dataframe[\"binary_event\"] = new_col\n",
        "\n",
        "def nan_to_one(dataframe, key):\n",
        "    \"\"\"takes column from dataframe\"\"\"\n",
        "    dataframe[key] = dataframe[key].fillna(0)"
      ],
      "execution_count": 0,
      "outputs": []
    },
    {
      "cell_type": "markdown",
      "metadata": {
        "id": "Xlgt1oO5J14F",
        "colab_type": "text"
      },
      "source": [
        ""
      ]
    },
    {
      "cell_type": "markdown",
      "metadata": {
        "id": "t14HJK9Pgk0E",
        "colab_type": "text"
      },
      "source": [
        "# LOADING DATA AND FUNCTION"
      ]
    },
    {
      "cell_type": "code",
      "metadata": {
        "id": "8JDVKJ6UhCcU",
        "colab_type": "code",
        "outputId": "6131c3f5-7a4c-4a33-eeda-312b404de6b1",
        "colab": {
          "base_uri": "https://localhost:8080/",
          "height": 35
        }
      },
      "source": [
        "%pwd"
      ],
      "execution_count": 7,
      "outputs": [
        {
          "output_type": "execute_result",
          "data": {
            "text/plain": [
              "'/content'"
            ]
          },
          "metadata": {
            "tags": []
          },
          "execution_count": 7
        }
      ]
    },
    {
      "cell_type": "code",
      "metadata": {
        "id": "KexhPxtxkUTD",
        "colab_type": "code",
        "outputId": "0cf0151c-f2aa-46c0-98a8-8b7bd9da075a",
        "colab": {
          "base_uri": "https://localhost:8080/",
          "height": 35
        }
      },
      "source": [
        "%cd /content/drive/My\\ Drive/masters_project/"
      ],
      "execution_count": 8,
      "outputs": [
        {
          "output_type": "stream",
          "text": [
            "/content/drive/My Drive/masters_project\n"
          ],
          "name": "stdout"
        }
      ]
    },
    {
      "cell_type": "markdown",
      "metadata": {
        "id": "WHrgYmVdlK8q",
        "colab_type": "text"
      },
      "source": [
        "load in data"
      ]
    },
    {
      "cell_type": "code",
      "metadata": {
        "id": "rEibi2zhgrbk",
        "colab_type": "code",
        "colab": {}
      },
      "source": [
        "\n",
        "data_prio = pd.read_csv(\"data/PRIO-GRID Yearly Variables for 1946-2014 - 2019-07-26.csv\")\n",
        "data_ucdp = pd.read_csv(\"data/ged191.csv\")\n",
        "\n"
      ],
      "execution_count": 0,
      "outputs": []
    },
    {
      "cell_type": "markdown",
      "metadata": {
        "id": "GeDqDYZRFaXa",
        "colab_type": "text"
      },
      "source": [
        "sub selecting only the african region - just to test for simplicity - compare training on both at a later date"
      ]
    },
    {
      "cell_type": "code",
      "metadata": {
        "id": "Soxg4jfzFiOk",
        "colab_type": "code",
        "colab": {}
      },
      "source": [
        "north = 37.32\n",
        "south = -34.5115\n",
        "west = -17.3113\n",
        "east = 51.2752\n",
        "\n",
        "data_ucdp = data_ucdp[(data_ucdp.latitude >= south) & (data_ucdp.latitude <= north) & (data_ucdp.longitude >= west) & (east >= data_ucdp.longitude)]\n",
        "#data = dummy"
      ],
      "execution_count": 0,
      "outputs": []
    },
    {
      "cell_type": "markdown",
      "metadata": {
        "id": "vyXn5extlKDV",
        "colab_type": "text"
      },
      "source": [
        "add monotonic month column to the ucdp data, turn nans into 1s for petroleum and drugs"
      ]
    },
    {
      "cell_type": "code",
      "metadata": {
        "id": "NjBSL8xNgycL",
        "colab_type": "code",
        "colab": {}
      },
      "source": [
        "date_column(data_ucdp)\n",
        "binary_event_column(data_ucdp)\n",
        "nan_to_one(data_prio, \"petroleum_y\")\n",
        "nan_to_one(data_prio, \"drug_y\")\n",
        "\n"
      ],
      "execution_count": 0,
      "outputs": []
    },
    {
      "cell_type": "code",
      "metadata": {
        "id": "Kn7sl3W3dZ7A",
        "colab_type": "code",
        "colab": {
          "base_uri": "https://localhost:8080/",
          "height": 1000
        },
        "outputId": "58babf21-ebfe-4138-e75b-886df61c4d27"
      },
      "source": [
        ""
      ],
      "execution_count": 47,
      "outputs": [
        {
          "output_type": "execute_result",
          "data": {
            "text/plain": [
              "0         1.0\n",
              "1         1.0\n",
              "2         1.0\n",
              "7         1.0\n",
              "8         1.0\n",
              "9         1.0\n",
              "10        1.0\n",
              "11        1.0\n",
              "13        1.0\n",
              "14        1.0\n",
              "15        1.0\n",
              "16        1.0\n",
              "24        1.0\n",
              "25        1.0\n",
              "28        1.0\n",
              "32        1.0\n",
              "34        1.0\n",
              "36        1.0\n",
              "37        1.0\n",
              "39        1.0\n",
              "40        1.0\n",
              "41        1.0\n",
              "42        1.0\n",
              "43        1.0\n",
              "44        1.0\n",
              "51        1.0\n",
              "52        1.0\n",
              "53        1.0\n",
              "60        1.0\n",
              "63        1.0\n",
              "         ... \n",
              "152490    1.0\n",
              "152492    1.0\n",
              "152493    1.0\n",
              "152497    1.0\n",
              "152501    1.0\n",
              "152507    1.0\n",
              "152511    1.0\n",
              "152512    1.0\n",
              "152517    1.0\n",
              "152519    1.0\n",
              "152521    1.0\n",
              "152523    1.0\n",
              "152528    1.0\n",
              "152532    1.0\n",
              "152535    1.0\n",
              "152538    1.0\n",
              "152541    1.0\n",
              "152549    1.0\n",
              "152552    1.0\n",
              "152554    1.0\n",
              "152561    1.0\n",
              "152566    1.0\n",
              "152580    1.0\n",
              "152582    1.0\n",
              "152583    1.0\n",
              "152585    1.0\n",
              "152586    1.0\n",
              "152597    1.0\n",
              "152599    1.0\n",
              "152600    1.0\n",
              "Name: binary_event, Length: 55811, dtype: float64"
            ]
          },
          "metadata": {
            "tags": []
          },
          "execution_count": 47
        }
      ]
    },
    {
      "cell_type": "markdown",
      "metadata": {
        "id": "OWId5IE1lPVf",
        "colab_type": "text"
      },
      "source": [
        "construct full image sequence"
      ]
    },
    {
      "cell_type": "code",
      "metadata": {
        "id": "lYxGEKVANpJg",
        "colab_type": "code",
        "colab": {}
      },
      "source": [
        "key_list_prio = [\"gcp_ppp\", \"petroleum_y\",\"drug_y\", \"prec_gpcp\"] # not temp - needs better imputation\n",
        "# excluded also useful - talk to nils about exclusion.\n",
        "\n",
        "# no mountainous regions so far\n",
        "key_list_ucdp = [\"best\", \"binary_event\"]\n"
      ],
      "execution_count": 0,
      "outputs": []
    },
    {
      "cell_type": "code",
      "metadata": {
        "id": "NWa9_B-qnD4g",
        "colab_type": "code",
        "outputId": "d862296a-d887-43a0-af19-8a0d50dc523c",
        "colab": {
          "base_uri": "https://localhost:8080/",
          "height": 1000
        }
      },
      "source": [
        "test = construct_combined_sequence(data_prio, data_ucdp, key_list_prio=key_list_prio, key_list_ucdp=key_list_ucdp)"
      ],
      "execution_count": 15,
      "outputs": [
        {
          "output_type": "stream",
          "text": [
            "300\n",
            "6\n",
            "0\n",
            "1\n",
            "2\n",
            "3\n",
            "4\n",
            "5\n",
            "6\n",
            "7\n",
            "8\n",
            "9\n",
            "10\n",
            "11\n",
            "12\n",
            "13\n",
            "14\n",
            "15\n",
            "16\n",
            "17\n",
            "18\n",
            "19\n",
            "20\n",
            "21\n",
            "22\n",
            "23\n",
            "24\n",
            "25\n",
            "26\n",
            "27\n",
            "28\n",
            "29\n",
            "30\n",
            "31\n",
            "32\n",
            "33\n",
            "34\n",
            "35\n",
            "36\n",
            "37\n",
            "38\n",
            "39\n",
            "40\n",
            "41\n",
            "42\n",
            "43\n",
            "44\n",
            "45\n",
            "46\n",
            "47\n",
            "48\n",
            "49\n",
            "50\n",
            "51\n",
            "52\n",
            "53\n",
            "54\n",
            "55\n",
            "56\n",
            "57\n",
            "58\n",
            "59\n",
            "60\n",
            "61\n",
            "62\n",
            "63\n",
            "64\n",
            "65\n",
            "66\n",
            "67\n",
            "68\n",
            "69\n",
            "70\n",
            "71\n",
            "72\n",
            "73\n",
            "74\n",
            "75\n",
            "76\n",
            "77\n",
            "78\n",
            "79\n",
            "80\n",
            "81\n",
            "82\n",
            "83\n",
            "84\n",
            "85\n",
            "86\n",
            "87\n",
            "88\n",
            "89\n",
            "90\n",
            "91\n",
            "92\n",
            "93\n",
            "94\n",
            "95\n",
            "96\n",
            "97\n",
            "98\n",
            "99\n",
            "100\n",
            "101\n",
            "102\n",
            "103\n",
            "104\n",
            "105\n",
            "106\n",
            "107\n",
            "108\n",
            "109\n",
            "110\n",
            "111\n",
            "112\n",
            "113\n",
            "114\n",
            "115\n",
            "116\n",
            "117\n",
            "118\n",
            "119\n",
            "120\n",
            "121\n",
            "122\n",
            "123\n",
            "124\n",
            "125\n",
            "126\n",
            "127\n",
            "128\n",
            "129\n",
            "130\n",
            "131\n",
            "132\n",
            "133\n",
            "134\n",
            "135\n",
            "136\n",
            "137\n",
            "138\n",
            "139\n",
            "140\n",
            "141\n",
            "142\n",
            "143\n",
            "144\n",
            "145\n",
            "146\n",
            "147\n",
            "148\n",
            "149\n",
            "150\n",
            "151\n",
            "152\n",
            "153\n",
            "154\n",
            "155\n",
            "156\n",
            "157\n",
            "158\n",
            "159\n",
            "160\n",
            "161\n",
            "162\n",
            "163\n",
            "164\n",
            "165\n",
            "166\n",
            "167\n",
            "168\n",
            "169\n",
            "170\n",
            "171\n",
            "172\n",
            "173\n",
            "174\n",
            "175\n",
            "176\n",
            "177\n",
            "178\n",
            "179\n",
            "180\n",
            "181\n",
            "182\n",
            "183\n",
            "184\n",
            "185\n",
            "186\n",
            "187\n",
            "188\n",
            "189\n",
            "190\n",
            "191\n",
            "192\n",
            "193\n",
            "194\n",
            "195\n",
            "196\n",
            "197\n",
            "198\n",
            "199\n",
            "200\n",
            "201\n",
            "202\n",
            "203\n",
            "204\n",
            "205\n",
            "206\n",
            "207\n",
            "208\n",
            "209\n",
            "210\n",
            "211\n",
            "212\n",
            "213\n",
            "214\n",
            "215\n",
            "216\n",
            "217\n",
            "218\n",
            "219\n",
            "220\n",
            "221\n",
            "222\n",
            "223\n",
            "224\n",
            "225\n",
            "226\n",
            "227\n",
            "228\n",
            "229\n",
            "230\n",
            "231\n",
            "232\n",
            "233\n",
            "234\n",
            "235\n",
            "236\n",
            "237\n",
            "238\n",
            "239\n",
            "240\n",
            "241\n",
            "242\n",
            "243\n",
            "244\n",
            "245\n",
            "246\n",
            "247\n",
            "248\n",
            "249\n",
            "250\n",
            "251\n",
            "252\n",
            "253\n",
            "254\n",
            "255\n",
            "256\n",
            "257\n",
            "258\n",
            "259\n",
            "260\n",
            "261\n",
            "262\n",
            "263\n",
            "264\n",
            "265\n",
            "266\n",
            "267\n",
            "268\n",
            "269\n",
            "270\n",
            "271\n",
            "272\n",
            "273\n",
            "274\n",
            "275\n",
            "276\n",
            "277\n",
            "278\n",
            "279\n",
            "280\n",
            "281\n",
            "282\n",
            "283\n",
            "284\n",
            "285\n",
            "286\n",
            "287\n",
            "288\n",
            "289\n",
            "290\n",
            "291\n",
            "292\n",
            "293\n",
            "294\n",
            "295\n",
            "296\n",
            "297\n",
            "298\n",
            "299\n"
          ],
          "name": "stdout"
        }
      ]
    },
    {
      "cell_type": "markdown",
      "metadata": {
        "id": "at14JdkSmO_4",
        "colab_type": "text"
      },
      "source": [
        "saving "
      ]
    },
    {
      "cell_type": "code",
      "metadata": {
        "id": "ErmEch2UmOfj",
        "colab_type": "code",
        "colab": {}
      },
      "source": [
        "np.save(\"array_1\", test)"
      ],
      "execution_count": 0,
      "outputs": []
    },
    {
      "cell_type": "markdown",
      "metadata": {
        "id": "duA3-ZxphgbK",
        "colab_type": "text"
      },
      "source": [
        "correct test binary layer - by correcting the other layer\n"
      ]
    },
    {
      "cell_type": "code",
      "metadata": {
        "id": "S83jt2a8hlX0",
        "colab_type": "code",
        "colab": {}
      },
      "source": [
        "test[:,0].shape\n",
        "np.unique(test[:,1])\n",
        "test[:,1][test[:,1] > 0] = 1\n",
        "# plt.figure(figsize = (50,10))\n",
        "# plt.imshow(test[199][1],vmin = 0, vmax = 1)"
      ],
      "execution_count": 0,
      "outputs": []
    },
    {
      "cell_type": "code",
      "metadata": {
        "id": "kxcXOOd1jSjk",
        "colab_type": "code",
        "colab": {
          "base_uri": "https://localhost:8080/",
          "height": 1000
        },
        "outputId": "fd07b435-7b4c-4b9c-bce1-5976d7936f77"
      },
      "source": [
        "np.unique(test[:,0])\n"
      ],
      "execution_count": 80,
      "outputs": [
        {
          "output_type": "execute_result",
          "data": {
            "text/plain": [
              "array([0.0000e+00, 1.0000e+00, 2.0000e+00, 3.0000e+00, 4.0000e+00,\n",
              "       5.0000e+00, 6.0000e+00, 7.0000e+00, 8.0000e+00, 9.0000e+00,\n",
              "       1.0000e+01, 1.1000e+01, 1.2000e+01, 1.3000e+01, 1.4000e+01,\n",
              "       1.5000e+01, 1.6000e+01, 1.7000e+01, 1.8000e+01, 1.9000e+01,\n",
              "       2.0000e+01, 2.1000e+01, 2.2000e+01, 2.3000e+01, 2.4000e+01,\n",
              "       2.5000e+01, 2.6000e+01, 2.7000e+01, 2.8000e+01, 2.9000e+01,\n",
              "       3.0000e+01, 3.1000e+01, 3.2000e+01, 3.3000e+01, 3.4000e+01,\n",
              "       3.5000e+01, 3.6000e+01, 3.7000e+01, 3.8000e+01, 3.9000e+01,\n",
              "       4.0000e+01, 4.1000e+01, 4.2000e+01, 4.3000e+01, 4.4000e+01,\n",
              "       4.5000e+01, 4.6000e+01, 4.7000e+01, 4.8000e+01, 4.9000e+01,\n",
              "       5.0000e+01, 5.1000e+01, 5.2000e+01, 5.3000e+01, 5.4000e+01,\n",
              "       5.5000e+01, 5.6000e+01, 5.7000e+01, 5.8000e+01, 5.9000e+01,\n",
              "       6.0000e+01, 6.1000e+01, 6.2000e+01, 6.3000e+01, 6.4000e+01,\n",
              "       6.5000e+01, 6.6000e+01, 6.7000e+01, 6.8000e+01, 6.9000e+01,\n",
              "       7.0000e+01, 7.1000e+01, 7.2000e+01, 7.3000e+01, 7.4000e+01,\n",
              "       7.5000e+01, 7.6000e+01, 7.7000e+01, 7.8000e+01, 7.9000e+01,\n",
              "       8.0000e+01, 8.1000e+01, 8.2000e+01, 8.3000e+01, 8.4000e+01,\n",
              "       8.5000e+01, 8.6000e+01, 8.7000e+01, 8.8000e+01, 8.9000e+01,\n",
              "       9.0000e+01, 9.1000e+01, 9.2000e+01, 9.3000e+01, 9.4000e+01,\n",
              "       9.5000e+01, 9.6000e+01, 9.7000e+01, 9.8000e+01, 9.9000e+01,\n",
              "       1.0000e+02, 1.0100e+02, 1.0200e+02, 1.0300e+02, 1.0400e+02,\n",
              "       1.0500e+02, 1.0600e+02, 1.0700e+02, 1.0800e+02, 1.0900e+02,\n",
              "       1.1000e+02, 1.1100e+02, 1.1200e+02, 1.1300e+02, 1.1400e+02,\n",
              "       1.1500e+02, 1.1600e+02, 1.1700e+02, 1.1800e+02, 1.1900e+02,\n",
              "       1.2000e+02, 1.2100e+02, 1.2200e+02, 1.2300e+02, 1.2400e+02,\n",
              "       1.2500e+02, 1.2600e+02, 1.2700e+02, 1.2800e+02, 1.2900e+02,\n",
              "       1.3000e+02, 1.3100e+02, 1.3200e+02, 1.3300e+02, 1.3400e+02,\n",
              "       1.3500e+02, 1.3600e+02, 1.3700e+02, 1.3800e+02, 1.3900e+02,\n",
              "       1.4000e+02, 1.4100e+02, 1.4200e+02, 1.4300e+02, 1.4400e+02,\n",
              "       1.4500e+02, 1.4600e+02, 1.4700e+02, 1.4800e+02, 1.4900e+02,\n",
              "       1.5000e+02, 1.5100e+02, 1.5200e+02, 1.5400e+02, 1.5500e+02,\n",
              "       1.5600e+02, 1.5700e+02, 1.5800e+02, 1.5900e+02, 1.6000e+02,\n",
              "       1.6100e+02, 1.6200e+02, 1.6300e+02, 1.6400e+02, 1.6500e+02,\n",
              "       1.6600e+02, 1.6700e+02, 1.6900e+02, 1.7000e+02, 1.7100e+02,\n",
              "       1.7200e+02, 1.7300e+02, 1.7400e+02, 1.7500e+02, 1.7600e+02,\n",
              "       1.7700e+02, 1.7800e+02, 1.7900e+02, 1.8000e+02, 1.8100e+02,\n",
              "       1.8200e+02, 1.8300e+02, 1.8400e+02, 1.8500e+02, 1.8600e+02,\n",
              "       1.8700e+02, 1.8800e+02, 1.9000e+02, 1.9100e+02, 1.9200e+02,\n",
              "       1.9300e+02, 1.9400e+02, 1.9500e+02, 1.9600e+02, 1.9700e+02,\n",
              "       1.9800e+02, 2.0000e+02, 2.0100e+02, 2.0200e+02, 2.0300e+02,\n",
              "       2.0400e+02, 2.0500e+02, 2.0600e+02, 2.0700e+02, 2.0800e+02,\n",
              "       2.0900e+02, 2.1000e+02, 2.1100e+02, 2.1200e+02, 2.1300e+02,\n",
              "       2.1400e+02, 2.1500e+02, 2.1600e+02, 2.1700e+02, 2.1800e+02,\n",
              "       2.1900e+02, 2.2000e+02, 2.2100e+02, 2.2200e+02, 2.2300e+02,\n",
              "       2.2400e+02, 2.2500e+02, 2.2600e+02, 2.2700e+02, 2.2800e+02,\n",
              "       2.3000e+02, 2.3100e+02, 2.3200e+02, 2.3300e+02, 2.3400e+02,\n",
              "       2.3500e+02, 2.3700e+02, 2.3800e+02, 2.4000e+02, 2.4100e+02,\n",
              "       2.4400e+02, 2.4700e+02, 2.4800e+02, 2.4900e+02, 2.5000e+02,\n",
              "       2.5100e+02, 2.5200e+02, 2.5500e+02, 2.5600e+02, 2.5800e+02,\n",
              "       2.6000e+02, 2.6100e+02, 2.6400e+02, 2.6500e+02, 2.6700e+02,\n",
              "       2.6900e+02, 2.7000e+02, 2.7200e+02, 2.7400e+02, 2.7500e+02,\n",
              "       2.7900e+02, 2.8000e+02, 2.8300e+02, 2.8600e+02, 2.8700e+02,\n",
              "       2.9000e+02, 2.9100e+02, 2.9200e+02, 2.9300e+02, 2.9400e+02,\n",
              "       2.9800e+02, 2.9900e+02, 3.0000e+02, 3.0100e+02, 3.0300e+02,\n",
              "       3.0500e+02, 3.0600e+02, 3.1100e+02, 3.1200e+02, 3.1300e+02,\n",
              "       3.1500e+02, 3.1700e+02, 3.1800e+02, 3.2000e+02, 3.2100e+02,\n",
              "       3.2300e+02, 3.2500e+02, 3.2700e+02, 3.2800e+02, 3.2900e+02,\n",
              "       3.3200e+02, 3.3300e+02, 3.3400e+02, 3.3500e+02, 3.3600e+02,\n",
              "       3.3900e+02, 3.4000e+02, 3.4200e+02, 3.4300e+02, 3.4500e+02,\n",
              "       3.4800e+02, 3.5000e+02, 3.5100e+02, 3.5200e+02, 3.5300e+02,\n",
              "       3.5400e+02, 3.5700e+02, 3.6000e+02, 3.6700e+02, 3.6800e+02,\n",
              "       3.6900e+02, 3.7000e+02, 3.7400e+02, 3.7500e+02, 3.7700e+02,\n",
              "       3.7900e+02, 3.8000e+02, 3.8200e+02, 3.8500e+02, 3.8700e+02,\n",
              "       3.8800e+02, 3.9000e+02, 3.9400e+02, 3.9800e+02, 3.9900e+02,\n",
              "       4.0000e+02, 4.0600e+02, 4.0700e+02, 4.0800e+02, 4.0900e+02,\n",
              "       4.1200e+02, 4.2000e+02, 4.2200e+02, 4.2400e+02, 4.2800e+02,\n",
              "       4.3000e+02, 4.3200e+02, 4.3300e+02, 4.3400e+02, 4.4700e+02,\n",
              "       4.4800e+02, 4.5000e+02, 4.5300e+02, 4.5400e+02, 4.6000e+02,\n",
              "       4.6300e+02, 4.7000e+02, 4.7100e+02, 4.7300e+02, 4.7700e+02,\n",
              "       4.8100e+02, 4.9100e+02, 4.9500e+02, 4.9900e+02, 5.0000e+02,\n",
              "       5.0100e+02, 5.0200e+02, 5.0300e+02, 5.0700e+02, 5.1200e+02,\n",
              "       5.1300e+02, 5.2800e+02, 5.3100e+02, 5.3200e+02, 5.3500e+02,\n",
              "       5.4600e+02, 5.4900e+02, 5.5000e+02, 5.6000e+02, 5.6300e+02,\n",
              "       5.6600e+02, 5.6700e+02, 5.6900e+02, 5.7800e+02, 5.8800e+02,\n",
              "       5.9100e+02, 5.9200e+02, 5.9300e+02, 5.9500e+02, 6.0000e+02,\n",
              "       6.0100e+02, 6.0600e+02, 6.0800e+02, 6.1400e+02, 6.1600e+02,\n",
              "       6.2000e+02, 6.2100e+02, 6.4600e+02, 6.4700e+02, 6.4800e+02,\n",
              "       6.5800e+02, 6.6200e+02, 6.7400e+02, 6.7700e+02, 6.8100e+02,\n",
              "       6.8600e+02, 7.0000e+02, 7.0600e+02, 7.1700e+02, 7.2000e+02,\n",
              "       7.3000e+02, 7.3600e+02, 7.5000e+02, 7.6000e+02, 7.7500e+02,\n",
              "       7.8200e+02, 7.8400e+02, 7.9200e+02, 8.1000e+02, 8.1200e+02,\n",
              "       8.1500e+02, 8.1700e+02, 8.2200e+02, 8.4300e+02, 8.5000e+02,\n",
              "       8.5700e+02, 8.5900e+02, 9.0000e+02, 9.0700e+02, 9.4200e+02,\n",
              "       9.7800e+02, 9.8800e+02, 9.9100e+02, 1.0000e+03, 1.0010e+03,\n",
              "       1.0060e+03, 1.0240e+03, 1.0250e+03, 1.0270e+03, 1.0460e+03,\n",
              "       1.0530e+03, 1.0930e+03, 1.1180e+03, 1.1590e+03, 1.1600e+03,\n",
              "       1.2000e+03, 1.2130e+03, 1.2170e+03, 1.2230e+03, 1.2240e+03,\n",
              "       1.2500e+03, 1.3000e+03, 1.3150e+03, 1.3500e+03, 1.3600e+03,\n",
              "       1.3720e+03, 1.3930e+03, 1.4000e+03, 1.4480e+03, 1.4840e+03,\n",
              "       1.5000e+03, 1.5070e+03, 1.5720e+03, 1.5910e+03, 1.5940e+03,\n",
              "       1.6120e+03, 1.7360e+03, 1.7540e+03, 1.8000e+03, 1.8130e+03,\n",
              "       1.9480e+03, 2.0000e+03, 2.0090e+03, 2.0160e+03, 2.0200e+03,\n",
              "       2.1240e+03, 2.1790e+03, 2.3000e+03, 2.3070e+03, 2.3630e+03,\n",
              "       2.4000e+03, 2.4200e+03, 2.5250e+03, 2.7000e+03, 2.7200e+03,\n",
              "       2.7520e+03, 3.0000e+03, 3.0500e+03, 3.0820e+03, 3.1160e+03,\n",
              "       3.1620e+03, 3.2000e+03, 3.4740e+03, 3.6000e+03, 3.9500e+03,\n",
              "       4.0000e+03, 4.0360e+03, 4.0950e+03, 4.2230e+03, 5.1830e+03,\n",
              "       5.9210e+03, 6.7310e+03, 6.8600e+03, 7.0000e+03, 8.0000e+03,\n",
              "       8.5320e+03, 9.0820e+03, 1.4158e+04, 1.5143e+04, 1.7093e+04,\n",
              "       1.9457e+04, 3.0000e+04, 4.8183e+04, 9.1772e+04, 3.2775e+05])"
            ]
          },
          "metadata": {
            "tags": []
          },
          "execution_count": 80
        }
      ]
    },
    {
      "cell_type": "code",
      "metadata": {
        "id": "9jjkUhXDjKpA",
        "colab_type": "code",
        "colab": {
          "base_uri": "https://localhost:8080/",
          "height": 613
        },
        "outputId": "723f1109-cee4-4a4b-d3bf-6ff3acc5e28d"
      },
      "source": [
        "plt.figure(figsize = (50,10))\n",
        "plt.imshow(test[199][1],vmin = 0, vmax = 1)"
      ],
      "execution_count": 78,
      "outputs": [
        {
          "output_type": "execute_result",
          "data": {
            "text/plain": [
              "<matplotlib.image.AxesImage at 0x7f74046ecba8>"
            ]
          },
          "metadata": {
            "tags": []
          },
          "execution_count": 78
        },
        {
          "output_type": "display_data",
          "data": {
            "image/png": "[encoded data removed]",
            "text/plain": [
              "<Figure size 3600x720 with 1 Axes>"
            ]
          },
          "metadata": {
            "tags": []
          }
        }
      ]
    },
    {
      "cell_type": "code",
      "metadata": {
        "id": "EZxyTNQfds0U",
        "colab_type": "code",
        "colab": {
          "base_uri": "https://localhost:8080/",
          "height": 35
        },
        "outputId": "adcbc349-9b2d-44ec-8d45-e47f1b766334"
      },
      "source": [
        "np.unique(test[0][1])"
      ],
      "execution_count": 55,
      "outputs": [
        {
          "output_type": "execute_result",
          "data": {
            "text/plain": [
              "array([ 0.,  1.,  2.,  3.,  4.,  5.,  6.,  9., 10., 12.])"
            ]
          },
          "metadata": {
            "tags": []
          },
          "execution_count": 55
        }
      ]
    },
    {
      "cell_type": "markdown",
      "metadata": {
        "id": "e7TspZujnGPy",
        "colab_type": "text"
      },
      "source": [
        "now put this into our random selection."
      ]
    },
    {
      "cell_type": "code",
      "metadata": {
        "id": "tWTELI9pmexd",
        "colab_type": "code",
        "outputId": "494e8288-bfce-4524-b7de-682023ce27cd",
        "colab": {
          "base_uri": "https://localhost:8080/",
          "height": 35
        }
      },
      "source": [
        "test.shape\n"
      ],
      "execution_count": 17,
      "outputs": [
        {
          "output_type": "execute_result",
          "data": {
            "text/plain": [
              "(300, 6, 360, 720)"
            ]
          },
          "metadata": {
            "tags": []
          },
          "execution_count": 17
        }
      ]
    },
    {
      "cell_type": "code",
      "metadata": {
        "id": "N-pvjTDDmgpi",
        "colab_type": "code",
        "colab": {}
      },
      "source": [
        "def full_dataset_h5py(image, filename, chunk_size = 16, draws = 5, debug = False):\n",
        "    \"\"\" dataset is too large to combine in 12gb of ram - need to combine in h5py\n",
        "    array. i.e lazy saving as well as lazy loading\"\"\"\n",
        "    \n",
        "    with h5py.File(filename + \".hdf5\", 'w') as f:\n",
        "        for i in range(11, len(image)):\n",
        "            t1, t2 = random_grid_selection(image, i)\n",
        "            if i == 11:\n",
        "                # creat h5py file at first step.\n",
        "                f.create_dataset('predictor', data= t1, maxshape=(None,None, None, None,None)) # compression=\"gzip\", chunks=True, taken out\n",
        "                f.create_dataset(\"truth\", data= t2, maxshape=(None,None,None))\n",
        "        \n",
        "            else:\n",
        "                f[\"predictor\"].resize((f[\"predictor\"].shape[0] + t1.shape[0]), axis = 0) # expand dataset\n",
        "                f[\"truth\"].resize((f[\"truth\"].shape[0] + t2.shape[0]), axis = 0)\n",
        "            \n",
        "                f[\"predictor\"][-t1.shape[0]:] = t1 # place new data in expanded dataset\n",
        "                f[\"truth\"][-t2.shape[0]:] = t2\n",
        "    \n",
        "#     f.close()\n",
        "        "
      ],
      "execution_count": 0,
      "outputs": []
    },
    {
      "cell_type": "code",
      "metadata": {
        "id": "5Ui6KeUhnD76",
        "colab_type": "code",
        "outputId": "284e20b5-7797-4b27-9169-7a192c0aecea",
        "colab": {
          "base_uri": "https://localhost:8080/",
          "height": 1000
        }
      },
      "source": [
        "# a, b = full_dataset_numpy(test)\n",
        "full_dataset_h5py(test, \"data_prio_run_test\")\n"
      ],
      "execution_count": 19,
      "outputs": [
        {
          "output_type": "stream",
          "text": [
            "Image shape is: (300, 6, 360, 720)\n",
            "(44,)\n",
            "Image shape is: (300, 6, 360, 720)\n",
            "(77,)\n",
            "Image shape is: (300, 6, 360, 720)\n",
            "(53,)\n",
            "Image shape is: (300, 6, 360, 720)\n",
            "(58,)\n",
            "Image shape is: (300, 6, 360, 720)\n",
            "(61,)\n",
            "Image shape is: (300, 6, 360, 720)\n",
            "(60,)\n",
            "Image shape is: (300, 6, 360, 720)\n",
            "(47,)\n",
            "Image shape is: (300, 6, 360, 720)\n",
            "(49,)\n",
            "Image shape is: (300, 6, 360, 720)\n",
            "(49,)\n",
            "Image shape is: (300, 6, 360, 720)\n",
            "(57,)\n",
            "Image shape is: (300, 6, 360, 720)\n",
            "(49,)\n",
            "Image shape is: (300, 6, 360, 720)\n",
            "(40,)\n",
            "Image shape is: (300, 6, 360, 720)\n",
            "(44,)\n",
            "Image shape is: (300, 6, 360, 720)\n",
            "(63,)\n",
            "Image shape is: (300, 6, 360, 720)\n",
            "(53,)\n",
            "Image shape is: (300, 6, 360, 720)\n",
            "(57,)\n",
            "Image shape is: (300, 6, 360, 720)\n",
            "(56,)\n",
            "Image shape is: (300, 6, 360, 720)\n",
            "(54,)\n",
            "Image shape is: (300, 6, 360, 720)\n",
            "(27,)\n",
            "Image shape is: (300, 6, 360, 720)\n",
            "(35,)\n",
            "Image shape is: (300, 6, 360, 720)\n",
            "(27,)\n",
            "Image shape is: (300, 6, 360, 720)\n",
            "(33,)\n",
            "Image shape is: (300, 6, 360, 720)\n",
            "(37,)\n",
            "Image shape is: (300, 6, 360, 720)\n",
            "(38,)\n",
            "Image shape is: (300, 6, 360, 720)\n",
            "(42,)\n",
            "Image shape is: (300, 6, 360, 720)\n",
            "(58,)\n",
            "Image shape is: (300, 6, 360, 720)\n",
            "(53,)\n",
            "Image shape is: (300, 6, 360, 720)\n",
            "(54,)\n",
            "Image shape is: (300, 6, 360, 720)\n",
            "(47,)\n",
            "Image shape is: (300, 6, 360, 720)\n",
            "(49,)\n",
            "Image shape is: (300, 6, 360, 720)\n",
            "(54,)\n",
            "Image shape is: (300, 6, 360, 720)\n",
            "(48,)\n",
            "Image shape is: (300, 6, 360, 720)\n",
            "(55,)\n",
            "Image shape is: (300, 6, 360, 720)\n",
            "(42,)\n",
            "Image shape is: (300, 6, 360, 720)\n",
            "(67,)\n",
            "Image shape is: (300, 6, 360, 720)\n",
            "(51,)\n",
            "Image shape is: (300, 6, 360, 720)\n",
            "(59,)\n",
            "Image shape is: (300, 6, 360, 720)\n",
            "(87,)\n",
            "Image shape is: (300, 6, 360, 720)\n",
            "(69,)\n",
            "Image shape is: (300, 6, 360, 720)\n",
            "(69,)\n",
            "Image shape is: (300, 6, 360, 720)\n",
            "(52,)\n",
            "Image shape is: (300, 6, 360, 720)\n",
            "(67,)\n",
            "Image shape is: (300, 6, 360, 720)\n",
            "(51,)\n",
            "Image shape is: (300, 6, 360, 720)\n",
            "(74,)\n",
            "Image shape is: (300, 6, 360, 720)\n",
            "(64,)\n",
            "Image shape is: (300, 6, 360, 720)\n",
            "(70,)\n",
            "Image shape is: (300, 6, 360, 720)\n",
            "(61,)\n",
            "Image shape is: (300, 6, 360, 720)\n",
            "(67,)\n",
            "Image shape is: (300, 6, 360, 720)\n",
            "(69,)\n",
            "Image shape is: (300, 6, 360, 720)\n",
            "(92,)\n",
            "Image shape is: (300, 6, 360, 720)\n",
            "(84,)\n",
            "Image shape is: (300, 6, 360, 720)\n",
            "(70,)\n",
            "Image shape is: (300, 6, 360, 720)\n",
            "(80,)\n",
            "Image shape is: (300, 6, 360, 720)\n",
            "(69,)\n",
            "Image shape is: (300, 6, 360, 720)\n",
            "(72,)\n",
            "Image shape is: (300, 6, 360, 720)\n",
            "(55,)\n",
            "Image shape is: (300, 6, 360, 720)\n",
            "(57,)\n",
            "Image shape is: (300, 6, 360, 720)\n",
            "(51,)\n",
            "Image shape is: (300, 6, 360, 720)\n",
            "(72,)\n",
            "Image shape is: (300, 6, 360, 720)\n",
            "(54,)\n",
            "Image shape is: (300, 6, 360, 720)\n",
            "(47,)\n",
            "Image shape is: (300, 6, 360, 720)\n",
            "(73,)\n",
            "Image shape is: (300, 6, 360, 720)\n",
            "(55,)\n",
            "Image shape is: (300, 6, 360, 720)\n",
            "(90,)\n",
            "Image shape is: (300, 6, 360, 720)\n",
            "(56,)\n",
            "Image shape is: (300, 6, 360, 720)\n",
            "(57,)\n",
            "Image shape is: (300, 6, 360, 720)\n",
            "(59,)\n",
            "Image shape is: (300, 6, 360, 720)\n",
            "(67,)\n",
            "Image shape is: (300, 6, 360, 720)\n",
            "(58,)\n",
            "Image shape is: (300, 6, 360, 720)\n",
            "(49,)\n",
            "Image shape is: (300, 6, 360, 720)\n",
            "(61,)\n",
            "Image shape is: (300, 6, 360, 720)\n",
            "(58,)\n",
            "Image shape is: (300, 6, 360, 720)\n",
            "(55,)\n",
            "Image shape is: (300, 6, 360, 720)\n",
            "(61,)\n",
            "Image shape is: (300, 6, 360, 720)\n",
            "(44,)\n",
            "Image shape is: (300, 6, 360, 720)\n",
            "(35,)\n",
            "Image shape is: (300, 6, 360, 720)\n",
            "(39,)\n",
            "Image shape is: (300, 6, 360, 720)\n",
            "(53,)\n",
            "Image shape is: (300, 6, 360, 720)\n",
            "(53,)\n",
            "Image shape is: (300, 6, 360, 720)\n",
            "(31,)\n",
            "Image shape is: (300, 6, 360, 720)\n",
            "(36,)\n",
            "Image shape is: (300, 6, 360, 720)\n",
            "(50,)\n",
            "Image shape is: (300, 6, 360, 720)\n",
            "(50,)\n",
            "Image shape is: (300, 6, 360, 720)\n",
            "(50,)\n",
            "Image shape is: (300, 6, 360, 720)\n",
            "(44,)\n",
            "Image shape is: (300, 6, 360, 720)\n",
            "(67,)\n",
            "Image shape is: (300, 6, 360, 720)\n",
            "(37,)\n",
            "Image shape is: (300, 6, 360, 720)\n",
            "(56,)\n",
            "Image shape is: (300, 6, 360, 720)\n",
            "(37,)\n",
            "Image shape is: (300, 6, 360, 720)\n",
            "(63,)\n",
            "Image shape is: (300, 6, 360, 720)\n",
            "(39,)\n",
            "Image shape is: (300, 6, 360, 720)\n",
            "(41,)\n",
            "Image shape is: (300, 6, 360, 720)\n",
            "(50,)\n",
            "Image shape is: (300, 6, 360, 720)\n",
            "(50,)\n",
            "Image shape is: (300, 6, 360, 720)\n",
            "(59,)\n",
            "Image shape is: (300, 6, 360, 720)\n",
            "(47,)\n",
            "Image shape is: (300, 6, 360, 720)\n",
            "(53,)\n",
            "Image shape is: (300, 6, 360, 720)\n",
            "(63,)\n",
            "Image shape is: (300, 6, 360, 720)\n",
            "(66,)\n",
            "Image shape is: (300, 6, 360, 720)\n",
            "(71,)\n",
            "Image shape is: (300, 6, 360, 720)\n",
            "(65,)\n",
            "Image shape is: (300, 6, 360, 720)\n",
            "(80,)\n",
            "Image shape is: (300, 6, 360, 720)\n",
            "(65,)\n",
            "Image shape is: (300, 6, 360, 720)\n",
            "(63,)\n",
            "Image shape is: (300, 6, 360, 720)\n",
            "(76,)\n",
            "Image shape is: (300, 6, 360, 720)\n",
            "(80,)\n",
            "Image shape is: (300, 6, 360, 720)\n",
            "(63,)\n",
            "Image shape is: (300, 6, 360, 720)\n",
            "(64,)\n",
            "Image shape is: (300, 6, 360, 720)\n",
            "(67,)\n",
            "Image shape is: (300, 6, 360, 720)\n",
            "(93,)\n",
            "Image shape is: (300, 6, 360, 720)\n",
            "(63,)\n",
            "Image shape is: (300, 6, 360, 720)\n",
            "(56,)\n",
            "Image shape is: (300, 6, 360, 720)\n",
            "(59,)\n",
            "Image shape is: (300, 6, 360, 720)\n",
            "(78,)\n",
            "Image shape is: (300, 6, 360, 720)\n",
            "(67,)\n",
            "Image shape is: (300, 6, 360, 720)\n",
            "(79,)\n",
            "Image shape is: (300, 6, 360, 720)\n",
            "(42,)\n",
            "Image shape is: (300, 6, 360, 720)\n",
            "(53,)\n",
            "Image shape is: (300, 6, 360, 720)\n",
            "(37,)\n",
            "Image shape is: (300, 6, 360, 720)\n",
            "(43,)\n",
            "Image shape is: (300, 6, 360, 720)\n",
            "(42,)\n",
            "Image shape is: (300, 6, 360, 720)\n",
            "(72,)\n",
            "Image shape is: (300, 6, 360, 720)\n",
            "(59,)\n",
            "Image shape is: (300, 6, 360, 720)\n",
            "(71,)\n",
            "Image shape is: (300, 6, 360, 720)\n",
            "(50,)\n",
            "Image shape is: (300, 6, 360, 720)\n",
            "(67,)\n",
            "Image shape is: (300, 6, 360, 720)\n",
            "(54,)\n",
            "Image shape is: (300, 6, 360, 720)\n",
            "(66,)\n",
            "Image shape is: (300, 6, 360, 720)\n",
            "(52,)\n",
            "Image shape is: (300, 6, 360, 720)\n",
            "(55,)\n",
            "Image shape is: (300, 6, 360, 720)\n",
            "(43,)\n",
            "Image shape is: (300, 6, 360, 720)\n",
            "(51,)\n",
            "Image shape is: (300, 6, 360, 720)\n",
            "(60,)\n",
            "Image shape is: (300, 6, 360, 720)\n",
            "(71,)\n",
            "Image shape is: (300, 6, 360, 720)\n",
            "(44,)\n",
            "Image shape is: (300, 6, 360, 720)\n",
            "(39,)\n",
            "Image shape is: (300, 6, 360, 720)\n",
            "(46,)\n",
            "Image shape is: (300, 6, 360, 720)\n",
            "(61,)\n",
            "Image shape is: (300, 6, 360, 720)\n",
            "(48,)\n",
            "Image shape is: (300, 6, 360, 720)\n",
            "(37,)\n",
            "Image shape is: (300, 6, 360, 720)\n",
            "(29,)\n",
            "Image shape is: (300, 6, 360, 720)\n",
            "(43,)\n",
            "Image shape is: (300, 6, 360, 720)\n",
            "(46,)\n",
            "Image shape is: (300, 6, 360, 720)\n",
            "(39,)\n",
            "Image shape is: (300, 6, 360, 720)\n",
            "(39,)\n",
            "Image shape is: (300, 6, 360, 720)\n",
            "(69,)\n",
            "Image shape is: (300, 6, 360, 720)\n",
            "(58,)\n",
            "Image shape is: (300, 6, 360, 720)\n",
            "(63,)\n",
            "Image shape is: (300, 6, 360, 720)\n",
            "(49,)\n",
            "Image shape is: (300, 6, 360, 720)\n",
            "(58,)\n",
            "Image shape is: (300, 6, 360, 720)\n",
            "(64,)\n",
            "Image shape is: (300, 6, 360, 720)\n",
            "(52,)\n",
            "Image shape is: (300, 6, 360, 720)\n",
            "(51,)\n",
            "Image shape is: (300, 6, 360, 720)\n",
            "(62,)\n",
            "Image shape is: (300, 6, 360, 720)\n",
            "(73,)\n",
            "Image shape is: (300, 6, 360, 720)\n",
            "(57,)\n",
            "Image shape is: (300, 6, 360, 720)\n",
            "(61,)\n",
            "Image shape is: (300, 6, 360, 720)\n",
            "(68,)\n",
            "Image shape is: (300, 6, 360, 720)\n",
            "(48,)\n",
            "Image shape is: (300, 6, 360, 720)\n",
            "(68,)\n",
            "Image shape is: (300, 6, 360, 720)\n",
            "(78,)\n",
            "Image shape is: (300, 6, 360, 720)\n",
            "(53,)\n",
            "Image shape is: (300, 6, 360, 720)\n",
            "(55,)\n",
            "Image shape is: (300, 6, 360, 720)\n",
            "(45,)\n",
            "Image shape is: (300, 6, 360, 720)\n",
            "(55,)\n",
            "Image shape is: (300, 6, 360, 720)\n",
            "(38,)\n",
            "Image shape is: (300, 6, 360, 720)\n",
            "(56,)\n",
            "Image shape is: (300, 6, 360, 720)\n",
            "(46,)\n",
            "Image shape is: (300, 6, 360, 720)\n",
            "(44,)\n",
            "Image shape is: (300, 6, 360, 720)\n",
            "(66,)\n",
            "Image shape is: (300, 6, 360, 720)\n",
            "(69,)\n",
            "Image shape is: (300, 6, 360, 720)\n",
            "(79,)\n",
            "Image shape is: (300, 6, 360, 720)\n",
            "(59,)\n",
            "Image shape is: (300, 6, 360, 720)\n",
            "(62,)\n",
            "Image shape is: (300, 6, 360, 720)\n",
            "(70,)\n",
            "Image shape is: (300, 6, 360, 720)\n",
            "(44,)\n",
            "Image shape is: (300, 6, 360, 720)\n",
            "(63,)\n",
            "Image shape is: (300, 6, 360, 720)\n",
            "(56,)\n",
            "Image shape is: (300, 6, 360, 720)\n",
            "(53,)\n",
            "Image shape is: (300, 6, 360, 720)\n",
            "(54,)\n",
            "Image shape is: (300, 6, 360, 720)\n",
            "(46,)\n",
            "Image shape is: (300, 6, 360, 720)\n",
            "(63,)\n",
            "Image shape is: (300, 6, 360, 720)\n",
            "(44,)\n",
            "Image shape is: (300, 6, 360, 720)\n",
            "(53,)\n",
            "Image shape is: (300, 6, 360, 720)\n",
            "(63,)\n",
            "Image shape is: (300, 6, 360, 720)\n",
            "(47,)\n",
            "Image shape is: (300, 6, 360, 720)\n",
            "(45,)\n",
            "Image shape is: (300, 6, 360, 720)\n",
            "(44,)\n",
            "Image shape is: (300, 6, 360, 720)\n",
            "(46,)\n",
            "Image shape is: (300, 6, 360, 720)\n",
            "(42,)\n",
            "Image shape is: (300, 6, 360, 720)\n",
            "(51,)\n",
            "Image shape is: (300, 6, 360, 720)\n",
            "(45,)\n",
            "Image shape is: (300, 6, 360, 720)\n",
            "(49,)\n",
            "Image shape is: (300, 6, 360, 720)\n",
            "(55,)\n",
            "Image shape is: (300, 6, 360, 720)\n",
            "(42,)\n",
            "Image shape is: (300, 6, 360, 720)\n",
            "(50,)\n",
            "Image shape is: (300, 6, 360, 720)\n",
            "(64,)\n",
            "Image shape is: (300, 6, 360, 720)\n",
            "(64,)\n",
            "Image shape is: (300, 6, 360, 720)\n",
            "(58,)\n",
            "Image shape is: (300, 6, 360, 720)\n",
            "(67,)\n",
            "Image shape is: (300, 6, 360, 720)\n",
            "(52,)\n",
            "Image shape is: (300, 6, 360, 720)\n",
            "(43,)\n",
            "Image shape is: (300, 6, 360, 720)\n",
            "(50,)\n",
            "Image shape is: (300, 6, 360, 720)\n",
            "(57,)\n",
            "Image shape is: (300, 6, 360, 720)\n",
            "(53,)\n",
            "Image shape is: (300, 6, 360, 720)\n",
            "(77,)\n",
            "Image shape is: (300, 6, 360, 720)\n",
            "(54,)\n",
            "Image shape is: (300, 6, 360, 720)\n",
            "(64,)\n",
            "Image shape is: (300, 6, 360, 720)\n",
            "(45,)\n",
            "Image shape is: (300, 6, 360, 720)\n",
            "(59,)\n",
            "Image shape is: (300, 6, 360, 720)\n",
            "(57,)\n",
            "Image shape is: (300, 6, 360, 720)\n",
            "(55,)\n",
            "Image shape is: (300, 6, 360, 720)\n",
            "(50,)\n",
            "Image shape is: (300, 6, 360, 720)\n",
            "(58,)\n",
            "Image shape is: (300, 6, 360, 720)\n",
            "(56,)\n",
            "Image shape is: (300, 6, 360, 720)\n",
            "(41,)\n",
            "Image shape is: (300, 6, 360, 720)\n",
            "(56,)\n",
            "Image shape is: (300, 6, 360, 720)\n",
            "(66,)\n",
            "Image shape is: (300, 6, 360, 720)\n",
            "(60,)\n",
            "Image shape is: (300, 6, 360, 720)\n",
            "(72,)\n",
            "Image shape is: (300, 6, 360, 720)\n",
            "(51,)\n",
            "Image shape is: (300, 6, 360, 720)\n",
            "(67,)\n",
            "Image shape is: (300, 6, 360, 720)\n",
            "(51,)\n",
            "Image shape is: (300, 6, 360, 720)\n",
            "(33,)\n",
            "Image shape is: (300, 6, 360, 720)\n",
            "(43,)\n",
            "Image shape is: (300, 6, 360, 720)\n",
            "(43,)\n",
            "Image shape is: (300, 6, 360, 720)\n",
            "(41,)\n",
            "Image shape is: (300, 6, 360, 720)\n",
            "(26,)\n",
            "Image shape is: (300, 6, 360, 720)\n",
            "(46,)\n",
            "Image shape is: (300, 6, 360, 720)\n",
            "(85,)\n",
            "Image shape is: (300, 6, 360, 720)\n",
            "(65,)\n",
            "Image shape is: (300, 6, 360, 720)\n",
            "(79,)\n",
            "Image shape is: (300, 6, 360, 720)\n",
            "(58,)\n",
            "Image shape is: (300, 6, 360, 720)\n",
            "(74,)\n",
            "Image shape is: (300, 6, 360, 720)\n",
            "(52,)\n",
            "Image shape is: (300, 6, 360, 720)\n",
            "(65,)\n",
            "Image shape is: (300, 6, 360, 720)\n",
            "(56,)\n",
            "Image shape is: (300, 6, 360, 720)\n",
            "(61,)\n",
            "Image shape is: (300, 6, 360, 720)\n",
            "(60,)\n",
            "Image shape is: (300, 6, 360, 720)\n",
            "(42,)\n",
            "Image shape is: (300, 6, 360, 720)\n",
            "(41,)\n",
            "Image shape is: (300, 6, 360, 720)\n",
            "(44,)\n",
            "Image shape is: (300, 6, 360, 720)\n",
            "(44,)\n",
            "Image shape is: (300, 6, 360, 720)\n",
            "(46,)\n",
            "Image shape is: (300, 6, 360, 720)\n",
            "(57,)\n",
            "Image shape is: (300, 6, 360, 720)\n",
            "(51,)\n",
            "Image shape is: (300, 6, 360, 720)\n",
            "(54,)\n",
            "Image shape is: (300, 6, 360, 720)\n",
            "(44,)\n",
            "Image shape is: (300, 6, 360, 720)\n",
            "(41,)\n",
            "Image shape is: (300, 6, 360, 720)\n",
            "(37,)\n",
            "Image shape is: (300, 6, 360, 720)\n",
            "(33,)\n",
            "Image shape is: (300, 6, 360, 720)\n",
            "(49,)\n",
            "Image shape is: (300, 6, 360, 720)\n",
            "(34,)\n",
            "Image shape is: (300, 6, 360, 720)\n",
            "(61,)\n",
            "Image shape is: (300, 6, 360, 720)\n",
            "(73,)\n",
            "Image shape is: (300, 6, 360, 720)\n",
            "(90,)\n",
            "Image shape is: (300, 6, 360, 720)\n",
            "(91,)\n",
            "Image shape is: (300, 6, 360, 720)\n",
            "(83,)\n",
            "Image shape is: (300, 6, 360, 720)\n",
            "(89,)\n",
            "Image shape is: (300, 6, 360, 720)\n",
            "(59,)\n",
            "Image shape is: (300, 6, 360, 720)\n",
            "(73,)\n",
            "Image shape is: (300, 6, 360, 720)\n",
            "(60,)\n",
            "Image shape is: (300, 6, 360, 720)\n",
            "(63,)\n",
            "Image shape is: (300, 6, 360, 720)\n",
            "(64,)\n",
            "Image shape is: (300, 6, 360, 720)\n",
            "(71,)\n",
            "Image shape is: (300, 6, 360, 720)\n",
            "(101,)\n",
            "Image shape is: (300, 6, 360, 720)\n",
            "(97,)\n",
            "Image shape is: (300, 6, 360, 720)\n",
            "(101,)\n",
            "Image shape is: (300, 6, 360, 720)\n",
            "(78,)\n",
            "Image shape is: (300, 6, 360, 720)\n",
            "(77,)\n",
            "Image shape is: (300, 6, 360, 720)\n",
            "(83,)\n",
            "Image shape is: (300, 6, 360, 720)\n",
            "(74,)\n",
            "Image shape is: (300, 6, 360, 720)\n",
            "(88,)\n",
            "Image shape is: (300, 6, 360, 720)\n",
            "(70,)\n",
            "Image shape is: (300, 6, 360, 720)\n",
            "(73,)\n",
            "Image shape is: (300, 6, 360, 720)\n",
            "(77,)\n",
            "Image shape is: (300, 6, 360, 720)\n",
            "(76,)\n",
            "Image shape is: (300, 6, 360, 720)\n",
            "(89,)\n",
            "Image shape is: (300, 6, 360, 720)\n",
            "(81,)\n",
            "Image shape is: (300, 6, 360, 720)\n",
            "(71,)\n",
            "Image shape is: (300, 6, 360, 720)\n",
            "(76,)\n",
            "Image shape is: (300, 6, 360, 720)\n",
            "(90,)\n",
            "Image shape is: (300, 6, 360, 720)\n",
            "(96,)\n",
            "Image shape is: (300, 6, 360, 720)\n",
            "(84,)\n",
            "Image shape is: (300, 6, 360, 720)\n",
            "(92,)\n",
            "Image shape is: (300, 6, 360, 720)\n",
            "(83,)\n",
            "Image shape is: (300, 6, 360, 720)\n",
            "(90,)\n",
            "Image shape is: (300, 6, 360, 720)\n",
            "(84,)\n",
            "Image shape is: (300, 6, 360, 720)\n",
            "(97,)\n"
          ],
          "name": "stdout"
        }
      ]
    },
    {
      "cell_type": "code",
      "metadata": {
        "id": "Fx6RkdVjnZt8",
        "colab_type": "code",
        "colab": {}
      },
      "source": [
        "\n",
        "\n",
        "\n",
        "f = h5py.File(\"data_prio_run_test.hdf5\", 'r')\n"
      ],
      "execution_count": 0,
      "outputs": []
    },
    {
      "cell_type": "code",
      "metadata": {
        "id": "t__yhKfhtf0P",
        "colab_type": "code",
        "outputId": "df18b168-fe68-402e-8d0b-8921b615a19d",
        "colab": {
          "base_uri": "https://localhost:8080/",
          "height": 35
        }
      },
      "source": [
        "f[\"predictor\"].shape\n",
        "\n"
      ],
      "execution_count": 24,
      "outputs": [
        {
          "output_type": "execute_result",
          "data": {
            "text/plain": [
              "(84485, 10, 6, 16, 16)"
            ]
          },
          "metadata": {
            "tags": []
          },
          "execution_count": 24
        }
      ]
    },
    {
      "cell_type": "code",
      "metadata": {
        "id": "uaAPLJ7AbjFk",
        "colab_type": "code",
        "colab": {
          "base_uri": "https://localhost:8080/",
          "height": 295
        },
        "outputId": "d5fa94c6-2946-4821-9c71-89f64a6beb58"
      },
      "source": [
        "f[\"predictor\"][20000][0][1]"
      ],
      "execution_count": 46,
      "outputs": [
        {
          "output_type": "execute_result",
          "data": {
            "text/plain": [
              "array([[0., 0., 0., 0., 0., 0., 0., 0., 0., 0., 0., 0., 0., 0., 0., 0.],\n",
              "       [0., 0., 0., 0., 0., 0., 0., 0., 0., 0., 0., 0., 0., 0., 0., 0.],\n",
              "       [0., 0., 0., 0., 0., 0., 0., 0., 0., 0., 0., 0., 0., 0., 0., 0.],\n",
              "       [0., 0., 0., 0., 0., 0., 0., 0., 0., 0., 0., 0., 0., 0., 0., 0.],\n",
              "       [0., 0., 0., 0., 0., 0., 0., 0., 0., 0., 0., 0., 0., 0., 0., 0.],\n",
              "       [0., 0., 0., 0., 0., 0., 0., 0., 0., 0., 0., 1., 0., 1., 0., 1.],\n",
              "       [0., 0., 0., 0., 0., 0., 0., 0., 0., 0., 0., 0., 0., 4., 3., 6.],\n",
              "       [0., 0., 0., 0., 0., 0., 0., 0., 0., 0., 0., 0., 0., 0., 0., 0.],\n",
              "       [0., 0., 0., 0., 0., 0., 0., 0., 0., 0., 0., 0., 0., 0., 0., 0.],\n",
              "       [0., 0., 0., 0., 0., 0., 0., 0., 0., 0., 0., 0., 0., 0., 0., 0.],\n",
              "       [0., 0., 0., 0., 0., 0., 0., 0., 0., 0., 0., 0., 0., 0., 0., 0.],\n",
              "       [0., 0., 0., 0., 0., 0., 0., 0., 0., 0., 0., 0., 0., 0., 0., 0.],\n",
              "       [0., 0., 0., 0., 0., 0., 0., 0., 0., 0., 0., 0., 0., 0., 0., 0.],\n",
              "       [0., 0., 0., 0., 0., 0., 0., 0., 0., 0., 0., 0., 0., 0., 0., 0.],\n",
              "       [0., 0., 0., 0., 0., 0., 0., 0., 0., 0., 0., 0., 0., 0., 0., 0.],\n",
              "       [0., 0., 0., 0., 0., 0., 0., 0., 0., 0., 0., 0., 0., 0., 0., 0.]])"
            ]
          },
          "metadata": {
            "tags": []
          },
          "execution_count": 46
        }
      ]
    },
    {
      "cell_type": "code",
      "metadata": {
        "id": "Iu6Z80fLtuN6",
        "colab_type": "code",
        "outputId": "480285b9-d4ac-4d0f-bfdf-8ec266bab94c",
        "colab": {
          "base_uri": "https://localhost:8080/",
          "height": 1000
        }
      },
      "source": [
        "f[\"predictor\"].shape\n",
        "\n",
        "for i in range(10):\n",
        "    plt.figure()\n",
        "    plt.imshow(f[\"predictor\"][2000][i][0], vmax = 10)\n",
        "    "
      ],
      "execution_count": 39,
      "outputs": [
        {
          "output_type": "display_data",
          "data": {
            "image/png": "[encoded data removed]",
            "text/plain": [
              "<Figure size 432x288 with 1 Axes>"
            ]
          },
          "metadata": {
            "tags": []
          }
        },
        {
          "output_type": "display_data",
          "data": {
            "image/png": "[encoded data removed]",
            "text/plain": [
              "<Figure size 432x288 with 1 Axes>"
            ]
          },
          "metadata": {
            "tags": []
          }
        },
        {
          "output_type": "display_data",
          "data": {
            "image/png": "[encoded data removed]",
            "text/plain": [
              "<Figure size 432x288 with 1 Axes>"
            ]
          },
          "metadata": {
            "tags": []
          }
        },
        {
          "output_type": "display_data",
          "data": {
            "image/png": "[encoded data removed]",
            "text/plain": [
              "<Figure size 432x288 with 1 Axes>"
            ]
          },
          "metadata": {
            "tags": []
          }
        },
        {
          "output_type": "display_data",
          "data": {
            "image/png": "[encoded data removed]",
            "text/plain": [
              "<Figure size 432x288 with 1 Axes>"
            ]
          },
          "metadata": {
            "tags": []
          }
        },
        {
          "output_type": "display_data",
          "data": {
            "image/png": "[encoded data removed]",
            "text/plain": [
              "<Figure size 432x288 with 1 Axes>"
            ]
          },
          "metadata": {
            "tags": []
          }
        },
        {
          "output_type": "display_data",
          "data": {
            "image/png": "[encoded data removed]",
            "text/plain": [
              "<Figure size 432x288 with 1 Axes>"
            ]
          },
          "metadata": {
            "tags": []
          }
        },
        {
          "output_type": "display_data",
          "data": {
            "image/png": "[encoded data removed]",
            "text/plain": [
              "<Figure size 432x288 with 1 Axes>"
            ]
          },
          "metadata": {
            "tags": []
          }
        },
        {
          "output_type": "display_data",
          "data": {
            "image/png": "[encoded data removed]",
            "text/plain": [
              "<Figure size 432x288 with 1 Axes>"
            ]
          },
          "metadata": {
            "tags": []
          }
        },
        {
          "output_type": "display_data",
          "data": {
            "image/png": "[encoded data removed]",
            "text/plain": [
              "<Figure size 432x288 with 1 Axes>"
            ]
          },
          "metadata": {
            "tags": []
          }
        }
      ]
    },
    {
      "cell_type": "code",
      "metadata": {
        "id": "46NHJR9i2xHn",
        "colab_type": "code",
        "colab": {}
      },
      "source": [
        "f[\"predictor\"].shape\n",
        "k = 0\n",
        "for i in range(248580):\n",
        "    k +=1\n",
        "print(\"done\")\n"
      ],
      "execution_count": 0,
      "outputs": []
    },
    {
      "cell_type": "code",
      "metadata": {
        "id": "gW4M0YkrDblm",
        "colab_type": "code",
        "colab": {}
      },
      "source": [
        "# len(np.where(f[\"predictor\"][100000][:,0] > 0)[0])\n",
        "# f[\"predictor\"][100000][:,0]\n",
        "# plt.imshow(f[\"predictor\"][100000][:,0][0])\n",
        "len([])"
      ],
      "execution_count": 0,
      "outputs": []
    },
    {
      "cell_type": "code",
      "metadata": {
        "id": "8En8z9VL3uKA",
        "colab_type": "code",
        "colab": {}
      },
      "source": [
        "\n",
        "def data_set_analysis(dataset):\n",
        "    dat = np.zeros(len(dataset[\"predictor\"]))\n",
        "    for i in range(len(dataset[\"predictor\"])):\n",
        "        dat[i] = len(np.where(f[\"predictor\"][i][:,0] > 0)[0])\n",
        "        if (i % 1000) == 0:\n",
        "            print(i)\n",
        "    return dat\n",
        "\n",
        "dats = data_set_analysis(f)\n",
        "np.save(\"dats_saved\", dats)"
      ],
      "execution_count": 0,
      "outputs": []
    },
    {
      "cell_type": "code",
      "metadata": {
        "id": "ELhdQd4BCfjy",
        "colab_type": "code",
        "colab": {}
      },
      "source": [
        "# np.save(\"dats_saved\", dats)"
      ],
      "execution_count": 0,
      "outputs": []
    },
    {
      "cell_type": "code",
      "metadata": {
        "id": "cFlE86e8Co5m",
        "colab_type": "code",
        "colab": {}
      },
      "source": [
        "np.unique(dats)"
      ],
      "execution_count": 0,
      "outputs": []
    },
    {
      "cell_type": "code",
      "metadata": {
        "id": "JtGK9LexQXXv",
        "colab_type": "code",
        "colab": {}
      },
      "source": [
        "plot = sns.distplot(dats)"
      ],
      "execution_count": 0,
      "outputs": []
    },
    {
      "cell_type": "code",
      "metadata": {
        "id": "vcImFZYhQ18D",
        "colab_type": "code",
        "colab": {}
      },
      "source": [
        "figure = plot.get_figure()"
      ],
      "execution_count": 0,
      "outputs": []
    },
    {
      "cell_type": "code",
      "metadata": {
        "id": "EtVXvcc7RZQB",
        "colab_type": "code",
        "colab": {}
      },
      "source": [
        "figure.savefig(\"seabornplot.png\")"
      ],
      "execution_count": 0,
      "outputs": []
    },
    {
      "cell_type": "code",
      "metadata": {
        "id": "gi7dl5t-3nYe",
        "colab_type": "code",
        "colab": {}
      },
      "source": [
        "f[\"predictor\"][0][:,0][0].shape\n",
        "plt.imshow(f[\"predictor\"][0][:,0][0])"
      ],
      "execution_count": 0,
      "outputs": []
    }
  ]
}